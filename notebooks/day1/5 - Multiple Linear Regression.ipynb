{
 "cells": [
  {
   "cell_type": "markdown",
   "metadata": {},
   "source": [
    "# Part 5 - Multiple Linear Regression"
   ]
  },
  {
   "cell_type": "markdown",
   "metadata": {},
   "source": [
    "In the previous notebook we trained a Simple Linear Regressor with a single feature (`sqft`).  \n",
    "In this notebook we aim to extend the capability of our model by using multiple features for our independent variable `X`.  \n",
    "Our equation is the same however our `X` is now a matrix and the equation no longer represents a line but rather a hyperplane in N-dimensional space where **N** is the number of features in `X`.\n",
    "  \n",
    "$$\n",
    "y = mX + b\n",
    "$$ \n",
    "  \n"
   ]
  },
  {
   "cell_type": "code",
   "execution_count": 32,
   "metadata": {},
   "outputs": [],
   "source": [
    "from os import path\n",
    "import time\n",
    "import pickle\n",
    "import pandas as pd\n",
    "import matplotlib.pyplot as plt\n",
    "import seaborn as sns\n",
    "import numpy as np\n",
    "from sklearn.linear_model import LinearRegression\n",
    "from sklearn.metrics import mean_squared_error\n",
    "from sklearn.model_selection import train_test_split\n",
    "%matplotlib inline"
   ]
  },
  {
   "cell_type": "markdown",
   "metadata": {},
   "source": [
    "## Let's load the data and remind ourselves of the contents"
   ]
  },
  {
   "cell_type": "code",
   "execution_count": 33,
   "metadata": {},
   "outputs": [
    {
     "data": {
      "text/html": [
       "<div>\n",
       "<style scoped>\n",
       "    .dataframe tbody tr th:only-of-type {\n",
       "        vertical-align: middle;\n",
       "    }\n",
       "\n",
       "    .dataframe tbody tr th {\n",
       "        vertical-align: top;\n",
       "    }\n",
       "\n",
       "    .dataframe thead th {\n",
       "        text-align: right;\n",
       "    }\n",
       "</style>\n",
       "<table border=\"1\" class=\"dataframe\">\n",
       "  <thead>\n",
       "    <tr style=\"text-align: right;\">\n",
       "      <th></th>\n",
       "      <th>bath</th>\n",
       "      <th>bed</th>\n",
       "      <th>sqft</th>\n",
       "      <th>price</th>\n",
       "      <th>property_type_apartment</th>\n",
       "      <th>property_type_auction</th>\n",
       "      <th>property_type_coming</th>\n",
       "      <th>property_type_condo</th>\n",
       "      <th>property_type_coop</th>\n",
       "      <th>property_type_house</th>\n",
       "      <th>...</th>\n",
       "      <th>postal_code_94121</th>\n",
       "      <th>postal_code_94122</th>\n",
       "      <th>postal_code_94123</th>\n",
       "      <th>postal_code_94124</th>\n",
       "      <th>postal_code_94127</th>\n",
       "      <th>postal_code_94131</th>\n",
       "      <th>postal_code_94132</th>\n",
       "      <th>postal_code_94133</th>\n",
       "      <th>postal_code_94134</th>\n",
       "      <th>postal_code_94158</th>\n",
       "    </tr>\n",
       "  </thead>\n",
       "  <tbody>\n",
       "    <tr>\n",
       "      <th>0</th>\n",
       "      <td>1.000000</td>\n",
       "      <td>1.000000</td>\n",
       "      <td>920.0</td>\n",
       "      <td>1195000.0</td>\n",
       "      <td>0</td>\n",
       "      <td>0</td>\n",
       "      <td>0</td>\n",
       "      <td>1</td>\n",
       "      <td>0</td>\n",
       "      <td>0</td>\n",
       "      <td>...</td>\n",
       "      <td>0</td>\n",
       "      <td>0</td>\n",
       "      <td>0</td>\n",
       "      <td>0</td>\n",
       "      <td>0</td>\n",
       "      <td>0</td>\n",
       "      <td>0</td>\n",
       "      <td>0</td>\n",
       "      <td>0</td>\n",
       "      <td>0</td>\n",
       "    </tr>\n",
       "    <tr>\n",
       "      <th>1</th>\n",
       "      <td>2.000000</td>\n",
       "      <td>2.000000</td>\n",
       "      <td>1238.0</td>\n",
       "      <td>1425000.0</td>\n",
       "      <td>0</td>\n",
       "      <td>0</td>\n",
       "      <td>0</td>\n",
       "      <td>1</td>\n",
       "      <td>0</td>\n",
       "      <td>0</td>\n",
       "      <td>...</td>\n",
       "      <td>0</td>\n",
       "      <td>0</td>\n",
       "      <td>0</td>\n",
       "      <td>0</td>\n",
       "      <td>0</td>\n",
       "      <td>0</td>\n",
       "      <td>0</td>\n",
       "      <td>0</td>\n",
       "      <td>0</td>\n",
       "      <td>0</td>\n",
       "    </tr>\n",
       "    <tr>\n",
       "      <th>2</th>\n",
       "      <td>2.000000</td>\n",
       "      <td>2.000000</td>\n",
       "      <td>1925.0</td>\n",
       "      <td>1600000.0</td>\n",
       "      <td>0</td>\n",
       "      <td>0</td>\n",
       "      <td>0</td>\n",
       "      <td>1</td>\n",
       "      <td>0</td>\n",
       "      <td>0</td>\n",
       "      <td>...</td>\n",
       "      <td>0</td>\n",
       "      <td>0</td>\n",
       "      <td>0</td>\n",
       "      <td>0</td>\n",
       "      <td>0</td>\n",
       "      <td>0</td>\n",
       "      <td>0</td>\n",
       "      <td>0</td>\n",
       "      <td>0</td>\n",
       "      <td>0</td>\n",
       "    </tr>\n",
       "    <tr>\n",
       "      <th>3</th>\n",
       "      <td>2.040583</td>\n",
       "      <td>2.099728</td>\n",
       "      <td>6882.0</td>\n",
       "      <td>998000.0</td>\n",
       "      <td>0</td>\n",
       "      <td>0</td>\n",
       "      <td>0</td>\n",
       "      <td>0</td>\n",
       "      <td>0</td>\n",
       "      <td>0</td>\n",
       "      <td>...</td>\n",
       "      <td>0</td>\n",
       "      <td>0</td>\n",
       "      <td>0</td>\n",
       "      <td>0</td>\n",
       "      <td>0</td>\n",
       "      <td>0</td>\n",
       "      <td>0</td>\n",
       "      <td>0</td>\n",
       "      <td>0</td>\n",
       "      <td>0</td>\n",
       "    </tr>\n",
       "    <tr>\n",
       "      <th>4</th>\n",
       "      <td>1.000000</td>\n",
       "      <td>1.000000</td>\n",
       "      <td>580.0</td>\n",
       "      <td>678888.0</td>\n",
       "      <td>0</td>\n",
       "      <td>0</td>\n",
       "      <td>0</td>\n",
       "      <td>1</td>\n",
       "      <td>0</td>\n",
       "      <td>0</td>\n",
       "      <td>...</td>\n",
       "      <td>0</td>\n",
       "      <td>0</td>\n",
       "      <td>0</td>\n",
       "      <td>0</td>\n",
       "      <td>0</td>\n",
       "      <td>0</td>\n",
       "      <td>0</td>\n",
       "      <td>0</td>\n",
       "      <td>0</td>\n",
       "      <td>0</td>\n",
       "    </tr>\n",
       "  </tbody>\n",
       "</table>\n",
       "<p>5 rows × 38 columns</p>\n",
       "</div>"
      ],
      "text/plain": [
       "       bath       bed    sqft      price  property_type_apartment  \\\n",
       "0  1.000000  1.000000   920.0  1195000.0                        0   \n",
       "1  2.000000  2.000000  1238.0  1425000.0                        0   \n",
       "2  2.000000  2.000000  1925.0  1600000.0                        0   \n",
       "3  2.040583  2.099728  6882.0   998000.0                        0   \n",
       "4  1.000000  1.000000   580.0   678888.0                        0   \n",
       "\n",
       "   property_type_auction  property_type_coming  property_type_condo  \\\n",
       "0                      0                     0                    1   \n",
       "1                      0                     0                    1   \n",
       "2                      0                     0                    1   \n",
       "3                      0                     0                    0   \n",
       "4                      0                     0                    1   \n",
       "\n",
       "   property_type_coop  property_type_house        ...          \\\n",
       "0                   0                    0        ...           \n",
       "1                   0                    0        ...           \n",
       "2                   0                    0        ...           \n",
       "3                   0                    0        ...           \n",
       "4                   0                    0        ...           \n",
       "\n",
       "   postal_code_94121  postal_code_94122  postal_code_94123  postal_code_94124  \\\n",
       "0                  0                  0                  0                  0   \n",
       "1                  0                  0                  0                  0   \n",
       "2                  0                  0                  0                  0   \n",
       "3                  0                  0                  0                  0   \n",
       "4                  0                  0                  0                  0   \n",
       "\n",
       "   postal_code_94127  postal_code_94131  postal_code_94132  postal_code_94133  \\\n",
       "0                  0                  0                  0                  0   \n",
       "1                  0                  0                  0                  0   \n",
       "2                  0                  0                  0                  0   \n",
       "3                  0                  0                  0                  0   \n",
       "4                  0                  0                  0                  0   \n",
       "\n",
       "   postal_code_94134  postal_code_94158  \n",
       "0                  0                  0  \n",
       "1                  0                  0  \n",
       "2                  0                  0  \n",
       "3                  0                  0  \n",
       "4                  0                  0  \n",
       "\n",
       "[5 rows x 38 columns]"
      ]
     },
     "execution_count": 33,
     "metadata": {},
     "output_type": "execute_result"
    }
   ],
   "source": [
    "data_dir = './data'\n",
    "df = pd.read_csv(path.join(data_dir, 'data_clean_engineered.csv'))\n",
    "df.head()"
   ]
  },
  {
   "cell_type": "markdown",
   "metadata": {},
   "source": [
    "## Prepare our training and validation data"
   ]
  },
  {
   "cell_type": "code",
   "execution_count": 34,
   "metadata": {},
   "outputs": [
    {
     "data": {
      "text/plain": [
       "Index(['bath', 'bed', 'sqft', 'price', 'property_type_apartment',\n",
       "       'property_type_auction', 'property_type_coming', 'property_type_condo',\n",
       "       'property_type_coop', 'property_type_house', 'property_type_lot',\n",
       "       'property_type_new', 'postal_code_94044', 'postal_code_94102',\n",
       "       'postal_code_94103', 'postal_code_94104', 'postal_code_94105',\n",
       "       'postal_code_94107', 'postal_code_94108', 'postal_code_94109',\n",
       "       'postal_code_94110', 'postal_code_94111', 'postal_code_94112',\n",
       "       'postal_code_94114', 'postal_code_94115', 'postal_code_94116',\n",
       "       'postal_code_94117', 'postal_code_94118', 'postal_code_94121',\n",
       "       'postal_code_94122', 'postal_code_94123', 'postal_code_94124',\n",
       "       'postal_code_94127', 'postal_code_94131', 'postal_code_94132',\n",
       "       'postal_code_94133', 'postal_code_94134', 'postal_code_94158'],\n",
       "      dtype='object')"
      ]
     },
     "execution_count": 34,
     "metadata": {},
     "output_type": "execute_result"
    }
   ],
   "source": [
    "df.columns"
   ]
  },
  {
   "cell_type": "markdown",
   "metadata": {},
   "source": [
    "Recall we need to reshape the input data"
   ]
  },
  {
   "cell_type": "code",
   "execution_count": 35,
   "metadata": {},
   "outputs": [],
   "source": [
    "features = [feature for feature in df.columns if feature != 'price']\n",
    "X = df[features]\n",
    "y = df['price']\n",
    "X_np = X.values\n",
    "y_np = y.values.reshape((len(df), 1))"
   ]
  },
  {
   "cell_type": "code",
   "execution_count": 36,
   "metadata": {},
   "outputs": [],
   "source": [
    "X_train, X_val, y_train, y_val = train_test_split(X_np, y_np, test_size=0.30, random_state=2018) # split 70% train, 30% validation"
   ]
  },
  {
   "cell_type": "code",
   "execution_count": 37,
   "metadata": {},
   "outputs": [],
   "source": [
    "regressor = LinearRegression(normalize=True)"
   ]
  },
  {
   "cell_type": "code",
   "execution_count": 38,
   "metadata": {},
   "outputs": [
    {
     "data": {
      "image/png": "[encoded data removed]",
      "text/plain": [
       "<Figure size 864x576 with 2 Axes>"
      ]
     },
     "metadata": {},
     "output_type": "display_data"
    }
   ],
   "source": [
    "corrmat = df.corr()\n",
    "plt.figure(figsize=(12,8))\n",
    "sns.heatmap(corrmat, vmax=1, square=True);"
   ]
  },
  {
   "cell_type": "code",
   "execution_count": 39,
   "metadata": {},
   "outputs": [],
   "source": [
    "model = regressor.fit(X_train, y_train)"
   ]
  },
  {
   "cell_type": "code",
   "execution_count": 40,
   "metadata": {},
   "outputs": [
    {
     "name": "stdout",
     "output_type": "stream",
     "text": [
      "Mean Squared Error: 443928599332.48505\n",
      "Accuracy: 70.30527291377312%\n"
     ]
    }
   ],
   "source": [
    "def evaluate_model(model: object, X: np.ndarray, y: np.ndarray):\n",
    "    y_pred = model.predict(X) # predict y values from input X\n",
    "    mse = mean_squared_error(y_true=y, y_pred=y_pred)\n",
    "    print(\"Mean Squared Error: {}\".format(mse))\n",
    "    print(\"Accuracy: {}%\".format(model.score(X, y)*100.0))\n",
    "evaluate_model(model, X_val, y_val)"
   ]
  },
  {
   "cell_type": "code",
   "execution_count": 41,
   "metadata": {},
   "outputs": [
    {
     "name": "stdout",
     "output_type": "stream",
     "text": [
      "predicted price: $1.765376M\n",
      "actual price: $1,690,900\n"
     ]
    }
   ],
   "source": [
    "# try brand new data\n",
    "actual_price = '$1,690,900'\n",
    "sqft = 1618\n",
    "bed = 3\n",
    "bath = 3\n",
    "property_type = 'house'\n",
    "postal_code = '94110'\n",
    "new_data = {'sqft': sqft,\n",
    "            'bed': bed,\n",
    "            'bath': bath,\n",
    "            'property_type_{}'.format(property_type): 1,\n",
    "            'postal_code_{}'.format(postal_code): 1\n",
    "           }\n",
    "new_df = pd.get_dummies(pd.DataFrame(data=[new_data], columns=X.columns).fillna(0))\n",
    "predicted_price = model.predict(new_df).squeeze()\n",
    "print(\"predicted price: ${}M\".format(predicted_price/1e6))\n",
    "print(\"actual price: {}\".format(actual_price))"
   ]
  },
  {
   "cell_type": "markdown",
   "metadata": {},
   "source": [
    "Compare with our simple linear model from before"
   ]
  },
  {
   "cell_type": "code",
   "execution_count": 42,
   "metadata": {},
   "outputs": [
    {
     "name": "stdout",
     "output_type": "stream",
     "text": [
      "simple linear predicted price: $1.5338886536417249M\n"
     ]
    }
   ],
   "source": [
    "model_dir = './models'\n",
    "with open(path.join(model_dir, 'simple_linear.pkl'), 'rb') as f:\n",
    "    simple_linear = pickle.load(f)\n",
    "# print(prediction)\n",
    "sqft_input = np.array([sqft]).reshape(1,1)\n",
    "predicted_price_sl = simple_linear.predict(sqft_input).squeeze()\n",
    "print(\"simple linear predicted price: ${}M\".format(predicted_price_sl/1e6))"
   ]
  },
  {
   "cell_type": "markdown",
   "metadata": {},
   "source": [
    "## Retrain on entire dataset and save model to disk"
   ]
  },
  {
   "cell_type": "code",
   "execution_count": 43,
   "metadata": {},
   "outputs": [],
   "source": [
    "model = regressor.fit(X, y)\n",
    "\n",
    "with open(path.join(model_dir, 'multiple_linear.pkl'), 'wb') as f:\n",
    "    pickle.dump(model, f)"
   ]
  }
 ],
 "metadata": {
  "kernelspec": {
   "display_name": "Python 3",
   "language": "python",
   "name": "python3"
  },
  "language_info": {
   "codemirror_mode": {
    "name": "ipython",
    "version": 3
   },
   "file_extension": ".py",
   "mimetype": "text/x-python",
   "name": "python",
   "nbconvert_exporter": "python",
   "pygments_lexer": "ipython3",
   "version": "3.6.5"
  }
 },
 "nbformat": 4,
 "nbformat_minor": 2
}
