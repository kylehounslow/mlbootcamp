{
 "cells": [
  {
   "cell_type": "markdown",
   "metadata": {},
   "source": [
    "# Part 7 - Model Comparison\n",
    "Let's load and compare the models we trained in the previous notebook. "
   ]
  },
  {
   "cell_type": "code",
   "execution_count": 1,
   "metadata": {},
   "outputs": [],
   "source": [
    "from os import path\n",
    "import time\n",
    "import pickle\n",
    "import glob\n",
    "import pandas as pd\n",
    "import matplotlib.pyplot as plt\n",
    "import seaborn as sns\n",
    "import numpy as np\n",
    "from sklearn.metrics import mean_squared_error\n",
    "from sklearn.model_selection import train_test_split\n",
    "%matplotlib inline"
   ]
  },
  {
   "cell_type": "code",
   "execution_count": 3,
   "metadata": {},
   "outputs": [],
   "source": [
    "data_dir = './data'\n",
    "df = pd.read_csv(path.join(data_dir, 'data_clean_engineered.csv'))\n",
    "features = [feature for feature in df.columns if feature != 'price']\n",
    "X = df[features]\n",
    "y = df['price']"
   ]
  },
  {
   "cell_type": "code",
   "execution_count": 8,
   "metadata": {},
   "outputs": [],
   "source": [
    "def load_models(model_dir: str) -> list:\n",
    "    \"\"\"\n",
    "    Load all models from a directory\n",
    "    Args:\n",
    "        model_dir: path to model dir containing .pkl files\n",
    "    Returns:\n",
    "        list: list of models\n",
    "    \"\"\"\n",
    "    model_filenames = glob.glob(path.join(model_dir, '*.pkl'))\n",
    "    models = []\n",
    "    for filename in model_filenames:\n",
    "        # skip the simple linear model\n",
    "        if path.basename(filename) == 'simple_linear.pkl':\n",
    "            continue\n",
    "        with open(filename, 'rb') as f:\n",
    "            model = pickle.load(f)\n",
    "            models.append(model)\n",
    "    return models\n",
    "model_dir = './models'\n",
    "models = load_models(model_dir=model_dir)"
   ]
  },
  {
   "cell_type": "markdown",
   "metadata": {},
   "source": [
    "Get some brand new data from https://www.zillow.com/homes/for_sale/San-Francisco-CA/"
   ]
  },
  {
   "cell_type": "code",
   "execution_count": 10,
   "metadata": {},
   "outputs": [
    {
     "name": "stdout",
     "output_type": "stream",
     "text": [
      "method: <class 'sklearn.linear_model.coordinate_descent.ElasticNet'>\n",
      "predicted price: $1.5066987169751465M\n",
      "method: <class 'sklearn.neural_network.multilayer_perceptron.MLPRegressor'>\n",
      "predicted price: $1.1404686432106659M\n",
      "method: <class 'xgboost.sklearn.XGBRegressor'>\n",
      "predicted price: $1.00533675M\n",
      "method: <class 'sklearn.kernel_ridge.KernelRidge'>\n",
      "predicted price: $1.23432M\n",
      "\n",
      "actual price: $1,300,000\n"
     ]
    }
   ],
   "source": [
    "# try brand new data\n",
    "actual_price = '$1,300,000'\n",
    "sqft = 880\n",
    "bed = 1\n",
    "bath = 1\n",
    "property_type = 'condo'\n",
    "postal_code = '94105'\n",
    "new_data = {'sqft': sqft,\n",
    "            'bed': bed,\n",
    "            'bath': bath,\n",
    "            'property_type_{}'.format(property_type): 1,\n",
    "            'postal_code_{}'.format(postal_code): 1\n",
    "           }\n",
    "new_df = pd.get_dummies(pd.DataFrame(data=[new_data], columns=X.columns).fillna(0))\n",
    "\n",
    "for model in models:\n",
    "    predicted_price = model.predict(new_df)\n",
    "    print(\"method: {}\".format(model.__class__))\n",
    "    print(\"predicted price: ${}M\".format(predicted_price[0]/1e6))\n",
    "\n",
    "print(\"\\nactual price: {}\".format(actual_price))"
   ]
  },
  {
   "cell_type": "markdown",
   "metadata": {},
   "source": [
    "## Ensembling \n",
    "We can combine the results from many models to get a more accurate prediction"
   ]
  },
  {
   "cell_type": "code",
   "execution_count": 11,
   "metadata": {},
   "outputs": [
    {
     "data": {
      "image/jpeg": "[encoded data removed]",
      "text/plain": [
       "<IPython.lib.display.YouTubeVideo at 0x7ff5bfa01c18>"
      ]
     },
     "metadata": {}
    }
   ],
   "source": [
    "from IPython.display import YouTubeVideo\n",
    "YouTubeVideo(id='Un9zObFjBH0')"
   ]
  },
  {
   "cell_type": "code",
   "execution_count": 12,
   "metadata": {},
   "outputs": [],
   "source": [
    "def avg_prediction(models: list) -> float:\n",
    "    \"\"\"Get average prediction from a list of models\"\"\"\n",
    "    predictions = []\n",
    "    for model in models:\n",
    "        predictions.append(model.predict(new_df))\n",
    "    predictions = np.array(predictions) # convert to numpy array\n",
    "    return np.average(predictions)"
   ]
  },
  {
   "cell_type": "code",
   "execution_count": 13,
   "metadata": {},
   "outputs": [
    {
     "name": "stdout",
     "output_type": "stream",
     "text": [
      "average predicted price: $1.221706027546453M\n"
     ]
    }
   ],
   "source": [
    "avg_pred = avg_prediction(models)\n",
    "print(f\"average predicted price: ${avg_pred/1e6}M\")"
   ]
  },
  {
   "cell_type": "code",
   "execution_count": null,
   "metadata": {},
   "outputs": [],
   "source": []
  }
 ],
 "metadata": {
  "kernelspec": {
   "display_name": "Python 3",
   "language": "python",
   "name": "python3"
  },
  "language_info": {
   "codemirror_mode": {
    "name": "ipython",
    "version": 3
   },
   "file_extension": ".py",
   "mimetype": "text/x-python",
   "name": "python",
   "nbconvert_exporter": "python",
   "pygments_lexer": "ipython3",
   "version": "3.6.5"
  }
 },
 "nbformat": 4,
 "nbformat_minor": 2
}
