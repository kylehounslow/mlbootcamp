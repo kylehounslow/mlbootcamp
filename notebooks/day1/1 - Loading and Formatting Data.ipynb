{
 "cells": [
  {
   "cell_type": "markdown",
   "metadata": {
    "colab_type": "text",
    "id": "2DwyRzNQSwBx"
   },
   "source": [
    "# Part 1 - Loading and Formatting Data"
   ]
  },
  {
   "cell_type": "markdown",
   "metadata": {
    "colab_type": "text",
    "id": "BgS_ZteiSwBy"
   },
   "source": [
    "TODO: description of this notebook\n",
    "\n",
    "### Upon completing this notebook, we'll know more about:  \n",
    "* Using [Pandas] for data management\n",
    "* Basics of web scraping\n",
    "\n",
    "[Pandas]: https://pandas.pydata.org/"
   ]
  },
  {
   "cell_type": "code",
   "execution_count": 1,
   "metadata": {
    "colab": {
     "autoexec": {
      "startup": false,
      "wait_interval": 0
     }
    },
    "colab_type": "code",
    "id": "971I3-tMSwBz"
   },
   "outputs": [],
   "source": [
    "import os\n",
    "import re\n",
    "import time\n",
    "import glob\n",
    "import zipfile\n",
    "import urllib.request\n",
    "import pandas as pd"
   ]
  },
  {
   "cell_type": "markdown",
   "metadata": {
    "colab_type": "text",
    "id": "arO9ObkhSwB1"
   },
   "source": [
    "# Let's start by loading the data and have a peek at the contents \n",
    "The data was scraped from [zillow.com](https://www.zillow.com/homes/for_sale/San-Francisco-CA/) and is dispersed between several csv files.  \n",
    "You can find the code used for scraping in [Github](https://github.com/kylehounslow/datasets/blob/master/mlbootcamp/scrape_zillow.ipynb)"
   ]
  },
  {
   "cell_type": "markdown",
   "metadata": {},
   "source": [
    "We will first download and extract the [dataset](https://github.com/kylehounslow/datasets/blob/master/mlbootcamp/sf_housing.zip), then use Pandas to load all csv files and concatenate them into a single DataFrame"
   ]
  },
  {
   "cell_type": "code",
   "execution_count": 2,
   "metadata": {
    "colab": {
     "autoexec": {
      "startup": false,
      "wait_interval": 0
     },
     "base_uri": "https://localhost:8080/",
     "height": 85
    },
    "colab_type": "code",
    "executionInfo": {
     "elapsed": 1102,
     "status": "ok",
     "timestamp": 1525911552312,
     "user": {
      "displayName": "Kyle Hounslow",
      "photoUrl": "//lh5.googleusercontent.com/-EUCBmPgnjFM/AAAAAAAAAAI/AAAAAAAAAlg/Kla-xE5h8As/s50-c-k-no/photo.jpg",
      "userId": "116524524952241706076"
     },
     "user_tz": 420
    },
    "id": "H7EI9lPCTCIc",
    "outputId": "d49a6d89-109d-4147-a8d0-b8b7420d35c5"
   },
   "outputs": [],
   "source": [
    "def download_extract_data(data_dir: str):\n",
    "    \"\"\"\n",
    "    Download zipfile and extract its contents to data_dir\n",
    "    Args:\n",
    "        data_dir: extract data here\n",
    "    \"\"\"\n",
    "    if not os.path.exists(data_dir):\n",
    "        os.makedirs(data_dir)\n",
    "    data_save_path = os.path.join(data_dir, 'data.zip')\n",
    "    data_download_url = 'https://github.com/kylehounslow/datasets/raw/master/mlbootcamp/sf_housing.zip'\n",
    "    print('downloading data...')\n",
    "    urllib.request.urlretrieve(data_download_url, data_save_path)\n",
    "    print('extracting data to {data_dir}...'.format(data_dir=data_dir))\n",
    "    data_zip = zipfile.ZipFile(data_save_path)\n",
    "    data_zip.extractall(data_dir)\n",
    "    data_zip.close()\n",
    "    print('Done.')\n",
    "\n",
    "def load_data_to_dataframe(data_dir: str) -> pd.DataFrame:\n",
    "    \"\"\"\n",
    "    Load all .csv files from data_dir and concatenate them into a single DataFrame.  \n",
    "    Args:\n",
    "        data_dir: path to data directory\n",
    "    Returns:\n",
    "        pd.DataFrame: all data from files in data_dir\n",
    "    Notes:\n",
    "        All duplicate rows will be discarded\n",
    "    \"\"\"\n",
    "    all_csvs = []\n",
    "    # load the csv files from all scraping runs\n",
    "    csv_filenames = os.path.join(data_dir, '**/*.csv')\n",
    "    print('loading data {csv_filenames}'.format(csv_filenames=csv_filenames))\n",
    "    for filename in glob.glob(csv_filenames):\n",
    "        all_csvs.append(pd.read_csv(filename))\n",
    "    # combine all dataframes together and drop any duplicate entries\n",
    "    df = pd.concat(all_csvs, ignore_index=True).drop_duplicates()\n",
    "    print(\"Found a total of {count} data points\".format(count=len(df)))\n",
    "    # save this combined dataframe as csv for safe keeping\n",
    "    df.to_csv(os.path.join(data_dir, 'all_data.csv'), index=False)\n",
    "    return df"
   ]
  },
  {
   "cell_type": "markdown",
   "metadata": {},
   "source": [
    "Download and extract the data "
   ]
  },
  {
   "cell_type": "code",
   "execution_count": 3,
   "metadata": {
    "colab": {
     "autoexec": {
      "startup": false,
      "wait_interval": 0
     },
     "base_uri": "https://localhost:8080/",
     "height": 272
    },
    "colab_type": "code",
    "executionInfo": {
     "elapsed": 1128,
     "status": "ok",
     "timestamp": 1525911906949,
     "user": {
      "displayName": "Kyle Hounslow",
      "photoUrl": "//lh5.googleusercontent.com/-EUCBmPgnjFM/AAAAAAAAAAI/AAAAAAAAAlg/Kla-xE5h8As/s50-c-k-no/photo.jpg",
      "userId": "116524524952241706076"
     },
     "user_tz": 420
    },
    "id": "55ngYjzBYCVJ",
    "outputId": "d4837b32-8e90-4890-aff8-0a1f7e87bbca"
   },
   "outputs": [
    {
     "name": "stdout",
     "output_type": "stream",
     "text": [
      "downloading data...\n",
      "extracting data to ./data...\n",
      "Done.\n"
     ]
    }
   ],
   "source": [
    "data_dir = './data'\n",
    "download_extract_data(data_dir=data_dir)"
   ]
  },
  {
   "cell_type": "markdown",
   "metadata": {},
   "source": [
    "The data is organized into multiple folders, each containing multiple .csv files from that scraping run"
   ]
  },
  {
   "cell_type": "code",
   "execution_count": 4,
   "metadata": {},
   "outputs": [
    {
     "name": "stdout",
     "output_type": "stream",
     "text": [
      "total 1160\n",
      "drwxr-xr-x 8 root root   4096 Jun 17 03:57 .\n",
      "drwxrwxr-x 4 1000 1000   4096 Jun 17 04:39 ..\n",
      "-rw-r--r-- 1 root root 265245 Jun 17 04:39 all_data.csv\n",
      "-rw-r--r-- 1 root root 317892 Jun 17 03:57 data.csv\n",
      "-rw-r--r-- 1 root root 246700 Jun 17 04:40 data.zip\n",
      "-rw-r--r-- 1 root root 317892 Jun 17 04:40 data_w_latlng.csv\n",
      "drwxr-xr-x 2 root root   4096 Jun 17 03:07 feb28_2018\n",
      "drwxr-xr-x 2 root root   4096 Jun 17 03:07 mar10_2018\n",
      "drwxr-xr-x 2 root root   4096 Jun 17 03:07 mar5_2018\n",
      "drwxr-xr-x 2 root root   4096 Jun 17 03:07 mar6_2018\n",
      "drwxr-xr-x 2 root root   4096 Jun 17 03:07 mar9_2018\n",
      "drwxr-xr-x 2 root root   4096 Jun 17 03:07 may11_2018\n"
     ]
    }
   ],
   "source": [
    "%%bash -s \"$data_dir\"\n",
    "ls $1 -la"
   ]
  },
  {
   "cell_type": "code",
   "execution_count": 5,
   "metadata": {},
   "outputs": [
    {
     "name": "stdout",
     "output_type": "stream",
     "text": [
      "properties-94102.csv\n",
      "properties-94103.csv\n",
      "properties-94104.csv\n",
      "properties-94105.csv\n",
      "properties-94107.csv\n",
      "properties-94108.csv\n",
      "properties-94109.csv\n",
      "properties-94110.csv\n",
      "properties-94111.csv\n",
      "properties-94112.csv\n",
      "properties-94114.csv\n",
      "properties-94115.csv\n",
      "properties-94116.csv\n",
      "properties-94117.csv\n",
      "properties-94118.csv\n",
      "properties-94121.csv\n",
      "properties-94122.csv\n",
      "properties-94123.csv\n",
      "properties-94124.csv\n",
      "properties-94126.csv\n",
      "properties-94127.csv\n",
      "properties-94129.csv\n",
      "properties-94131.csv\n",
      "properties-94132.csv\n",
      "properties-94133.csv\n",
      "properties-94134.csv\n",
      "properties-94139.csv\n",
      "properties-94143.csv\n",
      "properties-94146.csv\n",
      "properties-94151.csv\n",
      "properties-94158.csv\n",
      "properties-94159.csv\n",
      "properties-94177.csv\n",
      "properties-94188.csv\n"
     ]
    }
   ],
   "source": [
    "%%bash -s \"$data_dir\"\n",
    "ls $1/may11_2018"
   ]
  },
  {
   "cell_type": "markdown",
   "metadata": {},
   "source": [
    "Load all data into DataFrame and preview the contents using `head()`"
   ]
  },
  {
   "cell_type": "code",
   "execution_count": 6,
   "metadata": {
    "colab": {
     "autoexec": {
      "startup": false,
      "wait_interval": 0
     },
     "base_uri": "https://localhost:8080/",
     "height": 272
    },
    "colab_type": "code",
    "executionInfo": {
     "elapsed": 1128,
     "status": "ok",
     "timestamp": 1525911906949,
     "user": {
      "displayName": "Kyle Hounslow",
      "photoUrl": "//lh5.googleusercontent.com/-EUCBmPgnjFM/AAAAAAAAAAI/AAAAAAAAAlg/Kla-xE5h8As/s50-c-k-no/photo.jpg",
      "userId": "116524524952241706076"
     },
     "user_tz": 420
    },
    "id": "55ngYjzBYCVJ",
    "outputId": "d4837b32-8e90-4890-aff8-0a1f7e87bbca"
   },
   "outputs": [
    {
     "name": "stdout",
     "output_type": "stream",
     "text": [
      "loading data ./data/**/*.csv\n",
      "Found a total of 1262 data points\n"
     ]
    },
    {
     "data": {
      "text/html": [
       "<div>\n",
       "<style scoped>\n",
       "    .dataframe tbody tr th:only-of-type {\n",
       "        vertical-align: middle;\n",
       "    }\n",
       "\n",
       "    .dataframe tbody tr th {\n",
       "        vertical-align: top;\n",
       "    }\n",
       "\n",
       "    .dataframe thead th {\n",
       "        text-align: right;\n",
       "    }\n",
       "</style>\n",
       "<table border=\"1\" class=\"dataframe\">\n",
       "  <thead>\n",
       "    <tr style=\"text-align: right;\">\n",
       "      <th></th>\n",
       "      <th>title</th>\n",
       "      <th>address</th>\n",
       "      <th>city</th>\n",
       "      <th>state</th>\n",
       "      <th>postal_code</th>\n",
       "      <th>price</th>\n",
       "      <th>facts and features</th>\n",
       "      <th>real estate provider</th>\n",
       "      <th>url</th>\n",
       "    </tr>\n",
       "  </thead>\n",
       "  <tbody>\n",
       "    <tr>\n",
       "      <th>0</th>\n",
       "      <td>New Construction</td>\n",
       "      <td>288 Pacific Ave # 67UQRR</td>\n",
       "      <td>San Francisco</td>\n",
       "      <td>CA</td>\n",
       "      <td>94111</td>\n",
       "      <td>NaN</td>\n",
       "      <td>-- bds , -- ba , -- sqft</td>\n",
       "      <td>NaN</td>\n",
       "      <td>https://www.zillow.com/community/288-pacific/2...</td>\n",
       "    </tr>\n",
       "    <tr>\n",
       "      <th>1</th>\n",
       "      <td>Condo For Sale</td>\n",
       "      <td>733 Front St UNIT 606</td>\n",
       "      <td>SAN FRANCISCO</td>\n",
       "      <td>CA</td>\n",
       "      <td>94111</td>\n",
       "      <td>$1,195,000</td>\n",
       "      <td>1 bd , 1 ba , 920 sqft</td>\n",
       "      <td>Climb Real Estate</td>\n",
       "      <td>https://www.zillow.com/homedetails/733-Front-S...</td>\n",
       "    </tr>\n",
       "    <tr>\n",
       "      <th>2</th>\n",
       "      <td>Condo For Sale</td>\n",
       "      <td>101 Lombard St APT 401W</td>\n",
       "      <td>SAN FRANCISCO</td>\n",
       "      <td>CA</td>\n",
       "      <td>94111</td>\n",
       "      <td>$1,425,000</td>\n",
       "      <td>2 bds , 2 ba , 1,238 sqft</td>\n",
       "      <td>Paragon Real Estate Group</td>\n",
       "      <td>https://www.zillow.com/homedetails/101-Lombard...</td>\n",
       "    </tr>\n",
       "    <tr>\n",
       "      <th>3</th>\n",
       "      <td>Condo For Sale</td>\n",
       "      <td>111 Chestnut St UNIT 109</td>\n",
       "      <td>SAN FRANCISCO</td>\n",
       "      <td>CA</td>\n",
       "      <td>94111</td>\n",
       "      <td>$1,600,000</td>\n",
       "      <td>2 bds , 2 ba , 1,925 sqft</td>\n",
       "      <td>CENTURY 21 Real Estate Alliance</td>\n",
       "      <td>https://www.zillow.com/homedetails/111-Chestnu...</td>\n",
       "    </tr>\n",
       "    <tr>\n",
       "      <th>4</th>\n",
       "      <td>Lot/Land For Sale</td>\n",
       "      <td>1235 Sansome St</td>\n",
       "      <td>San Francisco</td>\n",
       "      <td>CA</td>\n",
       "      <td>94111</td>\n",
       "      <td>$998,000</td>\n",
       "      <td>6,882 sqft lot</td>\n",
       "      <td>NaN</td>\n",
       "      <td>https://www.zillow.com/homedetails/1235-Sansom...</td>\n",
       "    </tr>\n",
       "  </tbody>\n",
       "</table>\n",
       "</div>"
      ],
      "text/plain": [
       "               title                   address           city state  \\\n",
       "0   New Construction  288 Pacific Ave # 67UQRR  San Francisco    CA   \n",
       "1     Condo For Sale     733 Front St UNIT 606  SAN FRANCISCO    CA   \n",
       "2     Condo For Sale   101 Lombard St APT 401W  SAN FRANCISCO    CA   \n",
       "3     Condo For Sale  111 Chestnut St UNIT 109  SAN FRANCISCO    CA   \n",
       "4  Lot/Land For Sale           1235 Sansome St  San Francisco    CA   \n",
       "\n",
       "  postal_code       price         facts and features  \\\n",
       "0       94111         NaN   -- bds , -- ba , -- sqft   \n",
       "1       94111  $1,195,000     1 bd , 1 ba , 920 sqft   \n",
       "2       94111  $1,425,000  2 bds , 2 ba , 1,238 sqft   \n",
       "3       94111  $1,600,000  2 bds , 2 ba , 1,925 sqft   \n",
       "4       94111    $998,000             6,882 sqft lot   \n",
       "\n",
       "              real estate provider  \\\n",
       "0                              NaN   \n",
       "1                Climb Real Estate   \n",
       "2        Paragon Real Estate Group   \n",
       "3  CENTURY 21 Real Estate Alliance   \n",
       "4                              NaN   \n",
       "\n",
       "                                                 url  \n",
       "0  https://www.zillow.com/community/288-pacific/2...  \n",
       "1  https://www.zillow.com/homedetails/733-Front-S...  \n",
       "2  https://www.zillow.com/homedetails/101-Lombard...  \n",
       "3  https://www.zillow.com/homedetails/111-Chestnu...  \n",
       "4  https://www.zillow.com/homedetails/1235-Sansom...  "
      ]
     },
     "execution_count": 6,
     "metadata": {},
     "output_type": "execute_result"
    }
   ],
   "source": [
    "df_raw = load_data_to_dataframe(data_dir=data_dir)\n",
    "df_raw.head(5)  # display first 5 entries"
   ]
  },
  {
   "cell_type": "markdown",
   "metadata": {
    "colab_type": "text",
    "id": "m0MW2-dcSwB6"
   },
   "source": [
    "Our data is now contained in a variable named `df_raw` which is a pandas DataFrame."
   ]
  },
  {
   "cell_type": "markdown",
   "metadata": {
    "colab_type": "text",
    "id": "Q6GL7MFrSwB7"
   },
   "source": [
    "### Display some quick stats about the DataFrame\n",
    "DataFrame has a few built in functions we can call to get a quick summary of the data:  \n",
    "* `info()` displays a count of all non-null objects and their datatypes  \n",
    "* `describe()` calculates basic statistics about all numerical values in the DataFrame"
   ]
  },
  {
   "cell_type": "code",
   "execution_count": 7,
   "metadata": {
    "colab": {
     "autoexec": {
      "startup": false,
      "wait_interval": 0
     }
    },
    "colab_type": "code",
    "id": "SEXrL436SwB8",
    "outputId": "7a741c6f-4def-420a-85a5-04d14c26414e"
   },
   "outputs": [
    {
     "name": "stdout",
     "output_type": "stream",
     "text": [
      "<class 'pandas.core.frame.DataFrame'>\n",
      "Int64Index: 1262 entries, 0 to 2413\n",
      "Data columns (total 9 columns):\n",
      "title                   1262 non-null object\n",
      "address                 1262 non-null object\n",
      "city                    1262 non-null object\n",
      "state                   1262 non-null object\n",
      "postal_code             1262 non-null object\n",
      "price                   1260 non-null object\n",
      "facts and features      1262 non-null object\n",
      "real estate provider    986 non-null object\n",
      "url                     1262 non-null object\n",
      "dtypes: object(9)\n",
      "memory usage: 98.6+ KB\n"
     ]
    }
   ],
   "source": [
    "df_raw.info()"
   ]
  },
  {
   "cell_type": "code",
   "execution_count": 8,
   "metadata": {
    "colab": {
     "autoexec": {
      "startup": false,
      "wait_interval": 0
     }
    },
    "colab_type": "code",
    "id": "SEXrL436SwB8",
    "outputId": "7a741c6f-4def-420a-85a5-04d14c26414e"
   },
   "outputs": [
    {
     "data": {
      "text/html": [
       "<div>\n",
       "<style scoped>\n",
       "    .dataframe tbody tr th:only-of-type {\n",
       "        vertical-align: middle;\n",
       "    }\n",
       "\n",
       "    .dataframe tbody tr th {\n",
       "        vertical-align: top;\n",
       "    }\n",
       "\n",
       "    .dataframe thead th {\n",
       "        text-align: right;\n",
       "    }\n",
       "</style>\n",
       "<table border=\"1\" class=\"dataframe\">\n",
       "  <thead>\n",
       "    <tr style=\"text-align: right;\">\n",
       "      <th></th>\n",
       "      <th>title</th>\n",
       "      <th>address</th>\n",
       "      <th>city</th>\n",
       "      <th>state</th>\n",
       "      <th>postal_code</th>\n",
       "      <th>price</th>\n",
       "      <th>facts and features</th>\n",
       "      <th>real estate provider</th>\n",
       "      <th>url</th>\n",
       "    </tr>\n",
       "  </thead>\n",
       "  <tbody>\n",
       "    <tr>\n",
       "      <th>count</th>\n",
       "      <td>1262</td>\n",
       "      <td>1262</td>\n",
       "      <td>1262</td>\n",
       "      <td>1262</td>\n",
       "      <td>1262</td>\n",
       "      <td>1260</td>\n",
       "      <td>1262</td>\n",
       "      <td>986</td>\n",
       "      <td>1262</td>\n",
       "    </tr>\n",
       "    <tr>\n",
       "      <th>unique</th>\n",
       "      <td>11</td>\n",
       "      <td>1197</td>\n",
       "      <td>9</td>\n",
       "      <td>1</td>\n",
       "      <td>33</td>\n",
       "      <td>557</td>\n",
       "      <td>1028</td>\n",
       "      <td>199</td>\n",
       "      <td>1200</td>\n",
       "    </tr>\n",
       "    <tr>\n",
       "      <th>top</th>\n",
       "      <td>Condo For Sale</td>\n",
       "      <td>1214 Masonic Ave</td>\n",
       "      <td>San Francisco</td>\n",
       "      <td>CA</td>\n",
       "      <td>94109</td>\n",
       "      <td>$1,495,000</td>\n",
       "      <td>2 bds , 1 ba , -- sqft</td>\n",
       "      <td>Zephyr Real Estate</td>\n",
       "      <td>https://www.zillow.com/homedetails/1214-Masoni...</td>\n",
       "    </tr>\n",
       "    <tr>\n",
       "      <th>freq</th>\n",
       "      <td>559</td>\n",
       "      <td>3</td>\n",
       "      <td>863</td>\n",
       "      <td>1262</td>\n",
       "      <td>83</td>\n",
       "      <td>31</td>\n",
       "      <td>14</td>\n",
       "      <td>98</td>\n",
       "      <td>3</td>\n",
       "    </tr>\n",
       "  </tbody>\n",
       "</table>\n",
       "</div>"
      ],
      "text/plain": [
       "                 title           address           city state  postal_code  \\\n",
       "count             1262              1262           1262  1262         1262   \n",
       "unique              11              1197              9     1           33   \n",
       "top     Condo For Sale  1214 Masonic Ave  San Francisco    CA        94109   \n",
       "freq               559                 3            863  1262           83   \n",
       "\n",
       "             price      facts and features real estate provider  \\\n",
       "count         1260                    1262                  986   \n",
       "unique         557                    1028                  199   \n",
       "top     $1,495,000  2 bds , 1 ba , -- sqft   Zephyr Real Estate   \n",
       "freq            31                      14                   98   \n",
       "\n",
       "                                                      url  \n",
       "count                                                1262  \n",
       "unique                                               1200  \n",
       "top     https://www.zillow.com/homedetails/1214-Masoni...  \n",
       "freq                                                    3  "
      ]
     },
     "execution_count": 8,
     "metadata": {},
     "output_type": "execute_result"
    }
   ],
   "source": [
    "df_raw.describe()"
   ]
  },
  {
   "cell_type": "markdown",
   "metadata": {
    "colab_type": "text",
    "id": "Mc3L-mgFSwB_"
   },
   "source": [
    "# Data Parsing\n",
    "Many of the columns are not in a format ready for training a Machine Learning model. We need to parse the data from string values into numerical values.  \n",
    "For instance the `price` columns contain `$` and `,` characters and the `facts and features` column is a written sentence describing the number of beds, bath and square footage. \n",
    "  \n",
    "Let's parse and format these columns."
   ]
  },
  {
   "cell_type": "code",
   "execution_count": 9,
   "metadata": {
    "colab": {
     "autoexec": {
      "startup": false,
      "wait_interval": 0
     }
    },
    "colab_type": "code",
    "id": "OBV1CYm9SwCA"
   },
   "outputs": [],
   "source": [
    "# copy our original dataframe for safe keeping. We will manipulate `df` instead\n",
    "df = df_raw.copy()"
   ]
  },
  {
   "cell_type": "markdown",
   "metadata": {
    "colab_type": "text",
    "id": "mkV-AzmRSwCC"
   },
   "source": [
    "### Reformat price column\n",
    "Time to use some convenient Pandas functions such as `.apply()` to apply a user defined formatting function to all values in a column.  "
   ]
  },
  {
   "cell_type": "markdown",
   "metadata": {
    "colab_type": "text",
    "id": "WYJEmMRGSwCC"
   },
   "source": [
    "Remove `$` and `,` characters and format as `int`.  \n",
    "Also, some prices are represented as `$1K` and `$1M` so let's replace with `1000` and `1000000`"
   ]
  },
  {
   "cell_type": "markdown",
   "metadata": {},
   "source": [
    "Define the price parsing function:"
   ]
  },
  {
   "cell_type": "code",
   "execution_count": 10,
   "metadata": {
    "colab": {
     "autoexec": {
      "startup": false,
      "wait_interval": 0
     }
    },
    "colab_type": "code",
    "id": "oRzNTbcaSwCD"
   },
   "outputs": [],
   "source": [
    "def format_price(price: str):\n",
    "    \"\"\"\n",
    "    Remove all non-numerical values from price column\n",
    "    Args:\n",
    "        price: string representation of price\n",
    "    Returns:\n",
    "        price_num: floating point representation of price\n",
    "    \"\"\"\n",
    "    price = str(price)\n",
    "    multiply_factor = 1\n",
    "    if 'M' in price:\n",
    "        multiply_factor = 1e6\n",
    "    elif 'K' in price:\n",
    "        multiply_factor = 1e3\n",
    "    non_decimal = re.compile(r'[^0-9\\.]')\n",
    "    price_num = None\n",
    "    try:\n",
    "        price_num = float(non_decimal.sub('', price))*multiply_factor\n",
    "    except Exception as e:\n",
    "#         print(f'error converting \\\"{price}\\\": {e}')\n",
    "        pass\n",
    "    finally:\n",
    "        return price_num"
   ]
  },
  {
   "cell_type": "markdown",
   "metadata": {},
   "source": [
    "We can see the effect of `format_price()` when applied to a single value"
   ]
  },
  {
   "cell_type": "code",
   "execution_count": 11,
   "metadata": {},
   "outputs": [
    {
     "name": "stdout",
     "output_type": "stream",
     "text": [
      "string: $678,888\n",
      "float: 678888.0\n"
     ]
    }
   ],
   "source": [
    "price_str = df.price[5]\n",
    "price_float = format_price(price_str)\n",
    "print(\"string: {price}\".format(price=price_str))\n",
    "print(\"float: {price}\".format(price=price_float))"
   ]
  },
  {
   "cell_type": "markdown",
   "metadata": {},
   "source": [
    "Apply `format_price()` to all values in the `price` column"
   ]
  },
  {
   "cell_type": "code",
   "execution_count": 12,
   "metadata": {},
   "outputs": [],
   "source": [
    "df['price'] = df.price.apply(format_price)"
   ]
  },
  {
   "cell_type": "code",
   "execution_count": 13,
   "metadata": {},
   "outputs": [
    {
     "data": {
      "text/html": [
       "<div>\n",
       "<style scoped>\n",
       "    .dataframe tbody tr th:only-of-type {\n",
       "        vertical-align: middle;\n",
       "    }\n",
       "\n",
       "    .dataframe tbody tr th {\n",
       "        vertical-align: top;\n",
       "    }\n",
       "\n",
       "    .dataframe thead th {\n",
       "        text-align: right;\n",
       "    }\n",
       "</style>\n",
       "<table border=\"1\" class=\"dataframe\">\n",
       "  <thead>\n",
       "    <tr style=\"text-align: right;\">\n",
       "      <th></th>\n",
       "      <th>title</th>\n",
       "      <th>address</th>\n",
       "      <th>city</th>\n",
       "      <th>state</th>\n",
       "      <th>postal_code</th>\n",
       "      <th>price</th>\n",
       "      <th>facts and features</th>\n",
       "      <th>real estate provider</th>\n",
       "      <th>url</th>\n",
       "    </tr>\n",
       "  </thead>\n",
       "  <tbody>\n",
       "    <tr>\n",
       "      <th>0</th>\n",
       "      <td>New Construction</td>\n",
       "      <td>288 Pacific Ave # 67UQRR</td>\n",
       "      <td>San Francisco</td>\n",
       "      <td>CA</td>\n",
       "      <td>94111</td>\n",
       "      <td>NaN</td>\n",
       "      <td>-- bds , -- ba , -- sqft</td>\n",
       "      <td>NaN</td>\n",
       "      <td>https://www.zillow.com/community/288-pacific/2...</td>\n",
       "    </tr>\n",
       "    <tr>\n",
       "      <th>1</th>\n",
       "      <td>Condo For Sale</td>\n",
       "      <td>733 Front St UNIT 606</td>\n",
       "      <td>SAN FRANCISCO</td>\n",
       "      <td>CA</td>\n",
       "      <td>94111</td>\n",
       "      <td>1195000.0</td>\n",
       "      <td>1 bd , 1 ba , 920 sqft</td>\n",
       "      <td>Climb Real Estate</td>\n",
       "      <td>https://www.zillow.com/homedetails/733-Front-S...</td>\n",
       "    </tr>\n",
       "    <tr>\n",
       "      <th>2</th>\n",
       "      <td>Condo For Sale</td>\n",
       "      <td>101 Lombard St APT 401W</td>\n",
       "      <td>SAN FRANCISCO</td>\n",
       "      <td>CA</td>\n",
       "      <td>94111</td>\n",
       "      <td>1425000.0</td>\n",
       "      <td>2 bds , 2 ba , 1,238 sqft</td>\n",
       "      <td>Paragon Real Estate Group</td>\n",
       "      <td>https://www.zillow.com/homedetails/101-Lombard...</td>\n",
       "    </tr>\n",
       "    <tr>\n",
       "      <th>3</th>\n",
       "      <td>Condo For Sale</td>\n",
       "      <td>111 Chestnut St UNIT 109</td>\n",
       "      <td>SAN FRANCISCO</td>\n",
       "      <td>CA</td>\n",
       "      <td>94111</td>\n",
       "      <td>1600000.0</td>\n",
       "      <td>2 bds , 2 ba , 1,925 sqft</td>\n",
       "      <td>CENTURY 21 Real Estate Alliance</td>\n",
       "      <td>https://www.zillow.com/homedetails/111-Chestnu...</td>\n",
       "    </tr>\n",
       "    <tr>\n",
       "      <th>4</th>\n",
       "      <td>Lot/Land For Sale</td>\n",
       "      <td>1235 Sansome St</td>\n",
       "      <td>San Francisco</td>\n",
       "      <td>CA</td>\n",
       "      <td>94111</td>\n",
       "      <td>998000.0</td>\n",
       "      <td>6,882 sqft lot</td>\n",
       "      <td>NaN</td>\n",
       "      <td>https://www.zillow.com/homedetails/1235-Sansom...</td>\n",
       "    </tr>\n",
       "  </tbody>\n",
       "</table>\n",
       "</div>"
      ],
      "text/plain": [
       "               title                   address           city state  \\\n",
       "0   New Construction  288 Pacific Ave # 67UQRR  San Francisco    CA   \n",
       "1     Condo For Sale     733 Front St UNIT 606  SAN FRANCISCO    CA   \n",
       "2     Condo For Sale   101 Lombard St APT 401W  SAN FRANCISCO    CA   \n",
       "3     Condo For Sale  111 Chestnut St UNIT 109  SAN FRANCISCO    CA   \n",
       "4  Lot/Land For Sale           1235 Sansome St  San Francisco    CA   \n",
       "\n",
       "  postal_code      price         facts and features  \\\n",
       "0       94111        NaN   -- bds , -- ba , -- sqft   \n",
       "1       94111  1195000.0     1 bd , 1 ba , 920 sqft   \n",
       "2       94111  1425000.0  2 bds , 2 ba , 1,238 sqft   \n",
       "3       94111  1600000.0  2 bds , 2 ba , 1,925 sqft   \n",
       "4       94111   998000.0             6,882 sqft lot   \n",
       "\n",
       "              real estate provider  \\\n",
       "0                              NaN   \n",
       "1                Climb Real Estate   \n",
       "2        Paragon Real Estate Group   \n",
       "3  CENTURY 21 Real Estate Alliance   \n",
       "4                              NaN   \n",
       "\n",
       "                                                 url  \n",
       "0  https://www.zillow.com/community/288-pacific/2...  \n",
       "1  https://www.zillow.com/homedetails/733-Front-S...  \n",
       "2  https://www.zillow.com/homedetails/101-Lombard...  \n",
       "3  https://www.zillow.com/homedetails/111-Chestnu...  \n",
       "4  https://www.zillow.com/homedetails/1235-Sansom...  "
      ]
     },
     "execution_count": 13,
     "metadata": {},
     "output_type": "execute_result"
    }
   ],
   "source": [
    "df.head()"
   ]
  },
  {
   "cell_type": "markdown",
   "metadata": {
    "colab_type": "text",
    "id": "8TegWFraSwCE"
   },
   "source": [
    "### Parse `facts and features` column into multiple columns \n",
    "An example entry in this column: `3 bds , 2 ba , 1,520 sqft`  \n",
    "Parse the text using comma followed by a space '`, `' as the delimiter so that we can still capture the comma in the square footage."
   ]
  },
  {
   "cell_type": "markdown",
   "metadata": {},
   "source": [
    "Define parsing functions:"
   ]
  },
  {
   "cell_type": "code",
   "execution_count": 14,
   "metadata": {
    "colab": {
     "autoexec": {
      "startup": false,
      "wait_interval": 0
     }
    },
    "colab_type": "code",
    "id": "8cTAyGafSwCF"
   },
   "outputs": [],
   "source": [
    "non_decimal = re.compile(r'[^\\d.]+') # regex for removing non-decimal characters from string\n",
    "def parse_beds(string):\n",
    "    strings = string.lower().split(', ')\n",
    "    num_beds = None\n",
    "    for s in strings:\n",
    "        if \"bd\" in s:\n",
    "            try:\n",
    "                num_beds = float(non_decimal.sub('', s))\n",
    "            except Exception as e:\n",
    "                pass\n",
    "        # treat studio as 0 bedrooms\n",
    "        elif \"studio\" in s.lower():\n",
    "            num_beds = 0\n",
    "        return num_beds\n",
    "\n",
    "def parse_bath(string):\n",
    "    strings = string.lower().split(', ')\n",
    "    num_bath = None\n",
    "    for s in strings:\n",
    "        if \"ba\" in s:\n",
    "            try:\n",
    "                num_bath = float(non_decimal.sub('', s))\n",
    "            except Exception as e:\n",
    "                pass\n",
    "            finally:\n",
    "                return num_bath\n",
    "def parse_sqft(string):\n",
    "    strings = string.lower().split(', ')\n",
    "    sqft = None\n",
    "    for s in strings:\n",
    "        if \"ft\" in s:\n",
    "            try:\n",
    "                sqft = float(non_decimal.sub('', s))\n",
    "            except Exception as e:\n",
    "                pass\n",
    "            finally:\n",
    "                return sqft"
   ]
  },
  {
   "cell_type": "markdown",
   "metadata": {},
   "source": [
    "Apply parsing functions to columns:"
   ]
  },
  {
   "cell_type": "code",
   "execution_count": 15,
   "metadata": {
    "colab": {
     "autoexec": {
      "startup": false,
      "wait_interval": 0
     }
    },
    "colab_type": "code",
    "id": "8cTAyGafSwCF"
   },
   "outputs": [],
   "source": [
    "df['bed'] = df['facts and features'].apply(parse_beds)\n",
    "df['bath'] = df['facts and features'].apply(parse_bath)\n",
    "df['sqft'] = df['facts and features'].apply(parse_sqft)"
   ]
  },
  {
   "cell_type": "markdown",
   "metadata": {
    "colab_type": "text",
    "id": "4rxqD5TvSwCH"
   },
   "source": [
    "### Parse `title` column and create `property_type` column\n",
    "The title of the posting contains some information we can parse. For instance we can map `'Condo For Sale'` --> `condo`"
   ]
  },
  {
   "cell_type": "markdown",
   "metadata": {
    "colab_type": "text",
    "id": "g8xXnpDISwCI"
   },
   "source": [
    "First let's see if there is a pattern to the titles:"
   ]
  },
  {
   "cell_type": "code",
   "execution_count": 16,
   "metadata": {
    "colab": {
     "autoexec": {
      "startup": false,
      "wait_interval": 0
     }
    },
    "colab_type": "code",
    "id": "PKd_29kMSwCJ",
    "outputId": "4dcd01fa-2c70-42a7-a2bb-56ccc81063c3"
   },
   "outputs": [
    {
     "name": "stdout",
     "output_type": "stream",
     "text": [
      "['New Construction' 'Condo For Sale' 'Lot/Land For Sale' 'House For Sale'\n",
      " 'Apartment For Sale' 'Co-op For Sale' 'Coming Soon' 'Foreclosure'\n",
      " 'For Sale by Owner' 'Auction' 'Townhouse For Sale']\n",
      "Condo For Sale        559\n",
      "House For Sale        384\n",
      "Apartment For Sale    186\n",
      "New Construction       68\n",
      "Coming Soon            23\n",
      "Lot/Land For Sale      13\n",
      "Auction                 9\n",
      "For Sale by Owner       8\n",
      "Co-op For Sale          7\n",
      "Foreclosure             4\n",
      "Townhouse For Sale      1\n",
      "Name: title, dtype: int64\n"
     ]
    }
   ],
   "source": [
    "print(df.title.unique())\n",
    "print(df.title.value_counts())"
   ]
  },
  {
   "cell_type": "markdown",
   "metadata": {
    "colab_type": "text",
    "id": "-GGWFXKdSwCL"
   },
   "source": [
    "Looks like there is a limited amount of unique values, which is good! We can design our parser to catch most cases.  \n",
    "We won't parse 'For Sale by Owner' since it is too vague"
   ]
  },
  {
   "cell_type": "markdown",
   "metadata": {},
   "source": [
    "Define the parsing function:"
   ]
  },
  {
   "cell_type": "code",
   "execution_count": 17,
   "metadata": {
    "colab": {
     "autoexec": {
      "startup": false,
      "wait_interval": 0
     }
    },
    "colab_type": "code",
    "id": "0L_DSutwSwCL"
   },
   "outputs": [],
   "source": [
    "# property types mapping\n",
    "property_types = {'Condo For Sale': 'condo', \n",
    "                  'House For Sale': 'house', \n",
    "                  'Apartment For Sale': 'apartment', \n",
    "                  'New Construction': 'new',\n",
    "                  'Foreclosure': 'foreclosure', \n",
    "                   'Lot/Land For Sale': 'lot', \n",
    "                  'Coming Soon': 'coming', \n",
    "                  'Co-op For Sale': 'coop',\n",
    "                  'Auction': 'auction', \n",
    "                  'For Sale by Owner': None, \n",
    "                  'Townhouse For Sale': 'townhouse'}\n",
    "def parse_property_type(string):\n",
    "    try:\n",
    "        property_type = property_types[string]\n",
    "    except KeyError as e:\n",
    "        print(e)\n",
    "        property_type = None\n",
    "    finally:\n",
    "        return property_type"
   ]
  },
  {
   "cell_type": "markdown",
   "metadata": {},
   "source": [
    "Apply parser to column:"
   ]
  },
  {
   "cell_type": "code",
   "execution_count": 18,
   "metadata": {
    "colab": {
     "autoexec": {
      "startup": false,
      "wait_interval": 0
     }
    },
    "colab_type": "code",
    "id": "0L_DSutwSwCL"
   },
   "outputs": [],
   "source": [
    "df['property_type'] = df['title'].apply(parse_property_type)"
   ]
  },
  {
   "cell_type": "code",
   "execution_count": 19,
   "metadata": {
    "colab": {
     "autoexec": {
      "startup": false,
      "wait_interval": 0
     }
    },
    "colab_type": "code",
    "id": "lI1OnkmeSwCN",
    "outputId": "5f07d879-d29e-49d7-d4c5-6b138d4bb05d"
   },
   "outputs": [
    {
     "data": {
      "text/plain": [
       "condo          559\n",
       "house          384\n",
       "apartment      186\n",
       "new             68\n",
       "coming          23\n",
       "lot             13\n",
       "auction          9\n",
       "coop             7\n",
       "foreclosure      4\n",
       "townhouse        1\n",
       "Name: property_type, dtype: int64"
      ]
     },
     "execution_count": 19,
     "metadata": {},
     "output_type": "execute_result"
    }
   ],
   "source": [
    "df.property_type.value_counts()"
   ]
  },
  {
   "cell_type": "markdown",
   "metadata": {
    "colab_type": "text",
    "id": "Ur6hKXf5SwCP"
   },
   "source": [
    "That's it for parsing!  \n",
    "Now if we check the `info()` of the dataframe, we should see some columns are now numerical (`float64`)"
   ]
  },
  {
   "cell_type": "code",
   "execution_count": 20,
   "metadata": {
    "colab": {
     "autoexec": {
      "startup": false,
      "wait_interval": 0
     }
    },
    "colab_type": "code",
    "id": "5pIZu6CtSwCQ",
    "outputId": "da0b8b02-5b79-4270-b5eb-0283aaba770e"
   },
   "outputs": [
    {
     "name": "stdout",
     "output_type": "stream",
     "text": [
      "<class 'pandas.core.frame.DataFrame'>\n",
      "Int64Index: 1262 entries, 0 to 2413\n",
      "Data columns (total 13 columns):\n",
      "title                   1262 non-null object\n",
      "address                 1262 non-null object\n",
      "city                    1262 non-null object\n",
      "state                   1262 non-null object\n",
      "postal_code             1262 non-null object\n",
      "price                   1260 non-null float64\n",
      "facts and features      1262 non-null object\n",
      "real estate provider    986 non-null object\n",
      "url                     1262 non-null object\n",
      "bed                     1241 non-null float64\n",
      "bath                    1075 non-null float64\n",
      "sqft                    1171 non-null float64\n",
      "property_type           1254 non-null object\n",
      "dtypes: float64(4), object(9)\n",
      "memory usage: 178.0+ KB\n"
     ]
    }
   ],
   "source": [
    "df.info()"
   ]
  },
  {
   "cell_type": "markdown",
   "metadata": {
    "colab_type": "text",
    "id": "Qm-_6tPRSwCT"
   },
   "source": [
    "Call `describe()` to get some stats about the numerical values"
   ]
  },
  {
   "cell_type": "code",
   "execution_count": 21,
   "metadata": {
    "colab": {
     "autoexec": {
      "startup": false,
      "wait_interval": 0
     }
    },
    "colab_type": "code",
    "id": "EWEJzCrJSwCU",
    "outputId": "1a5d494b-76ec-48ad-dd56-549e9ca17347"
   },
   "outputs": [
    {
     "data": {
      "text/html": [
       "<div>\n",
       "<style scoped>\n",
       "    .dataframe tbody tr th:only-of-type {\n",
       "        vertical-align: middle;\n",
       "    }\n",
       "\n",
       "    .dataframe tbody tr th {\n",
       "        vertical-align: top;\n",
       "    }\n",
       "\n",
       "    .dataframe thead th {\n",
       "        text-align: right;\n",
       "    }\n",
       "</style>\n",
       "<table border=\"1\" class=\"dataframe\">\n",
       "  <thead>\n",
       "    <tr style=\"text-align: right;\">\n",
       "      <th></th>\n",
       "      <th>price</th>\n",
       "      <th>bed</th>\n",
       "      <th>bath</th>\n",
       "      <th>sqft</th>\n",
       "    </tr>\n",
       "  </thead>\n",
       "  <tbody>\n",
       "    <tr>\n",
       "      <th>count</th>\n",
       "      <td>1.260000e+03</td>\n",
       "      <td>1241.000000</td>\n",
       "      <td>1075.000000</td>\n",
       "      <td>1171.000000</td>\n",
       "    </tr>\n",
       "    <tr>\n",
       "      <th>mean</th>\n",
       "      <td>2.020602e+06</td>\n",
       "      <td>2.130540</td>\n",
       "      <td>2.102791</td>\n",
       "      <td>2041.099915</td>\n",
       "    </tr>\n",
       "    <tr>\n",
       "      <th>std</th>\n",
       "      <td>2.215145e+06</td>\n",
       "      <td>1.554093</td>\n",
       "      <td>1.252006</td>\n",
       "      <td>1818.208577</td>\n",
       "    </tr>\n",
       "    <tr>\n",
       "      <th>min</th>\n",
       "      <td>2.000000e+05</td>\n",
       "      <td>0.000000</td>\n",
       "      <td>1.000000</td>\n",
       "      <td>1.000000</td>\n",
       "    </tr>\n",
       "    <tr>\n",
       "      <th>25%</th>\n",
       "      <td>9.359428e+05</td>\n",
       "      <td>1.000000</td>\n",
       "      <td>1.000000</td>\n",
       "      <td>1031.000000</td>\n",
       "    </tr>\n",
       "    <tr>\n",
       "      <th>50%</th>\n",
       "      <td>1.395000e+06</td>\n",
       "      <td>2.000000</td>\n",
       "      <td>2.000000</td>\n",
       "      <td>1510.000000</td>\n",
       "    </tr>\n",
       "    <tr>\n",
       "      <th>75%</th>\n",
       "      <td>2.100000e+06</td>\n",
       "      <td>3.000000</td>\n",
       "      <td>2.500000</td>\n",
       "      <td>2362.000000</td>\n",
       "    </tr>\n",
       "    <tr>\n",
       "      <th>max</th>\n",
       "      <td>2.500000e+07</td>\n",
       "      <td>12.000000</td>\n",
       "      <td>12.000000</td>\n",
       "      <td>17208.000000</td>\n",
       "    </tr>\n",
       "  </tbody>\n",
       "</table>\n",
       "</div>"
      ],
      "text/plain": [
       "              price          bed         bath          sqft\n",
       "count  1.260000e+03  1241.000000  1075.000000   1171.000000\n",
       "mean   2.020602e+06     2.130540     2.102791   2041.099915\n",
       "std    2.215145e+06     1.554093     1.252006   1818.208577\n",
       "min    2.000000e+05     0.000000     1.000000      1.000000\n",
       "25%    9.359428e+05     1.000000     1.000000   1031.000000\n",
       "50%    1.395000e+06     2.000000     2.000000   1510.000000\n",
       "75%    2.100000e+06     3.000000     2.500000   2362.000000\n",
       "max    2.500000e+07    12.000000    12.000000  17208.000000"
      ]
     },
     "execution_count": 21,
     "metadata": {},
     "output_type": "execute_result"
    }
   ],
   "source": [
    "df.describe()"
   ]
  },
  {
   "cell_type": "markdown",
   "metadata": {
    "colab_type": "text",
    "id": "m2MjaHElSwCa"
   },
   "source": [
    "## We have successfully loaded and formatted our dataset using Pandas. Now that we have the gist of the dataset contents, it's time to go more in depth and Visualize the data. See you in the next notebook!"
   ]
  }
 ],
 "metadata": {
  "colab": {
   "default_view": {},
   "name": "1 - Exploratory Data Analysis.ipynb",
   "provenance": [],
   "version": "0.3.2",
   "views": {}
  },
  "kernelspec": {
   "display_name": "Python 3",
   "language": "python",
   "name": "python3"
  },
  "language_info": {
   "codemirror_mode": {
    "name": "ipython",
    "version": 3
   },
   "file_extension": ".py",
   "mimetype": "text/x-python",
   "name": "python",
   "nbconvert_exporter": "python",
   "pygments_lexer": "ipython3",
   "version": "3.6.5"
  }
 },
 "nbformat": 4,
 "nbformat_minor": 1
}
