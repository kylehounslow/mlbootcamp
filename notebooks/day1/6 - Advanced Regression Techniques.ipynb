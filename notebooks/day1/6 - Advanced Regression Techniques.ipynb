{
 "cells": [
  {
   "cell_type": "markdown",
   "metadata": {},
   "source": [
    "# Part 6 - Advanced Regression Techniques\n",
    "In this notebook we will investigate some popular advanced regression techniques:  \n",
    "* XGBoost\n",
    "* Random Forest\n",
    "* MultiLayer Perceptron (Neural Network)\n",
    "  \n",
    "We will use the exact same dataset and features as before and compare the results with our Linear Regressor.  \n",
    "You will be happy to learn that the same procedure for training a Linear Regressor applies to nearly all other regression models!"
   ]
  },
  {
   "cell_type": "code",
   "execution_count": 40,
   "metadata": {},
   "outputs": [],
   "source": [
    "from os import path\n",
    "import time\n",
    "import pickle\n",
    "import pandas as pd\n",
    "import matplotlib.pyplot as plt\n",
    "import seaborn as sns\n",
    "import numpy as np\n",
    "from sklearn.metrics import mean_squared_error\n",
    "from sklearn.model_selection import train_test_split\n",
    "%matplotlib inline"
   ]
  },
  {
   "cell_type": "markdown",
   "metadata": {},
   "source": [
    "## Let's load the data and remind ourselves of the contents"
   ]
  },
  {
   "cell_type": "code",
   "execution_count": 41,
   "metadata": {},
   "outputs": [
    {
     "data": {
      "text/html": [
       "<div>\n",
       "<style scoped>\n",
       "    .dataframe tbody tr th:only-of-type {\n",
       "        vertical-align: middle;\n",
       "    }\n",
       "\n",
       "    .dataframe tbody tr th {\n",
       "        vertical-align: top;\n",
       "    }\n",
       "\n",
       "    .dataframe thead th {\n",
       "        text-align: right;\n",
       "    }\n",
       "</style>\n",
       "<table border=\"1\" class=\"dataframe\">\n",
       "  <thead>\n",
       "    <tr style=\"text-align: right;\">\n",
       "      <th></th>\n",
       "      <th>bath</th>\n",
       "      <th>bed</th>\n",
       "      <th>sqft</th>\n",
       "      <th>price</th>\n",
       "      <th>property_type_apartment</th>\n",
       "      <th>property_type_auction</th>\n",
       "      <th>property_type_coming</th>\n",
       "      <th>property_type_condo</th>\n",
       "      <th>property_type_coop</th>\n",
       "      <th>property_type_house</th>\n",
       "      <th>...</th>\n",
       "      <th>postal_code_94121</th>\n",
       "      <th>postal_code_94122</th>\n",
       "      <th>postal_code_94123</th>\n",
       "      <th>postal_code_94124</th>\n",
       "      <th>postal_code_94127</th>\n",
       "      <th>postal_code_94131</th>\n",
       "      <th>postal_code_94132</th>\n",
       "      <th>postal_code_94133</th>\n",
       "      <th>postal_code_94134</th>\n",
       "      <th>postal_code_94158</th>\n",
       "    </tr>\n",
       "  </thead>\n",
       "  <tbody>\n",
       "    <tr>\n",
       "      <th>0</th>\n",
       "      <td>1.000000</td>\n",
       "      <td>1.000000</td>\n",
       "      <td>920.0</td>\n",
       "      <td>1195000.0</td>\n",
       "      <td>0</td>\n",
       "      <td>0</td>\n",
       "      <td>0</td>\n",
       "      <td>1</td>\n",
       "      <td>0</td>\n",
       "      <td>0</td>\n",
       "      <td>...</td>\n",
       "      <td>0</td>\n",
       "      <td>0</td>\n",
       "      <td>0</td>\n",
       "      <td>0</td>\n",
       "      <td>0</td>\n",
       "      <td>0</td>\n",
       "      <td>0</td>\n",
       "      <td>0</td>\n",
       "      <td>0</td>\n",
       "      <td>0</td>\n",
       "    </tr>\n",
       "    <tr>\n",
       "      <th>1</th>\n",
       "      <td>2.000000</td>\n",
       "      <td>2.000000</td>\n",
       "      <td>1238.0</td>\n",
       "      <td>1425000.0</td>\n",
       "      <td>0</td>\n",
       "      <td>0</td>\n",
       "      <td>0</td>\n",
       "      <td>1</td>\n",
       "      <td>0</td>\n",
       "      <td>0</td>\n",
       "      <td>...</td>\n",
       "      <td>0</td>\n",
       "      <td>0</td>\n",
       "      <td>0</td>\n",
       "      <td>0</td>\n",
       "      <td>0</td>\n",
       "      <td>0</td>\n",
       "      <td>0</td>\n",
       "      <td>0</td>\n",
       "      <td>0</td>\n",
       "      <td>0</td>\n",
       "    </tr>\n",
       "    <tr>\n",
       "      <th>2</th>\n",
       "      <td>2.000000</td>\n",
       "      <td>2.000000</td>\n",
       "      <td>1925.0</td>\n",
       "      <td>1600000.0</td>\n",
       "      <td>0</td>\n",
       "      <td>0</td>\n",
       "      <td>0</td>\n",
       "      <td>1</td>\n",
       "      <td>0</td>\n",
       "      <td>0</td>\n",
       "      <td>...</td>\n",
       "      <td>0</td>\n",
       "      <td>0</td>\n",
       "      <td>0</td>\n",
       "      <td>0</td>\n",
       "      <td>0</td>\n",
       "      <td>0</td>\n",
       "      <td>0</td>\n",
       "      <td>0</td>\n",
       "      <td>0</td>\n",
       "      <td>0</td>\n",
       "    </tr>\n",
       "    <tr>\n",
       "      <th>3</th>\n",
       "      <td>2.040583</td>\n",
       "      <td>2.099728</td>\n",
       "      <td>6882.0</td>\n",
       "      <td>998000.0</td>\n",
       "      <td>0</td>\n",
       "      <td>0</td>\n",
       "      <td>0</td>\n",
       "      <td>0</td>\n",
       "      <td>0</td>\n",
       "      <td>0</td>\n",
       "      <td>...</td>\n",
       "      <td>0</td>\n",
       "      <td>0</td>\n",
       "      <td>0</td>\n",
       "      <td>0</td>\n",
       "      <td>0</td>\n",
       "      <td>0</td>\n",
       "      <td>0</td>\n",
       "      <td>0</td>\n",
       "      <td>0</td>\n",
       "      <td>0</td>\n",
       "    </tr>\n",
       "    <tr>\n",
       "      <th>4</th>\n",
       "      <td>1.000000</td>\n",
       "      <td>1.000000</td>\n",
       "      <td>580.0</td>\n",
       "      <td>678888.0</td>\n",
       "      <td>0</td>\n",
       "      <td>0</td>\n",
       "      <td>0</td>\n",
       "      <td>1</td>\n",
       "      <td>0</td>\n",
       "      <td>0</td>\n",
       "      <td>...</td>\n",
       "      <td>0</td>\n",
       "      <td>0</td>\n",
       "      <td>0</td>\n",
       "      <td>0</td>\n",
       "      <td>0</td>\n",
       "      <td>0</td>\n",
       "      <td>0</td>\n",
       "      <td>0</td>\n",
       "      <td>0</td>\n",
       "      <td>0</td>\n",
       "    </tr>\n",
       "  </tbody>\n",
       "</table>\n",
       "<p>5 rows × 38 columns</p>\n",
       "</div>"
      ],
      "text/plain": [
       "       bath       bed    sqft      price  property_type_apartment  \\\n",
       "0  1.000000  1.000000   920.0  1195000.0                        0   \n",
       "1  2.000000  2.000000  1238.0  1425000.0                        0   \n",
       "2  2.000000  2.000000  1925.0  1600000.0                        0   \n",
       "3  2.040583  2.099728  6882.0   998000.0                        0   \n",
       "4  1.000000  1.000000   580.0   678888.0                        0   \n",
       "\n",
       "   property_type_auction  property_type_coming  property_type_condo  \\\n",
       "0                      0                     0                    1   \n",
       "1                      0                     0                    1   \n",
       "2                      0                     0                    1   \n",
       "3                      0                     0                    0   \n",
       "4                      0                     0                    1   \n",
       "\n",
       "   property_type_coop  property_type_house        ...          \\\n",
       "0                   0                    0        ...           \n",
       "1                   0                    0        ...           \n",
       "2                   0                    0        ...           \n",
       "3                   0                    0        ...           \n",
       "4                   0                    0        ...           \n",
       "\n",
       "   postal_code_94121  postal_code_94122  postal_code_94123  postal_code_94124  \\\n",
       "0                  0                  0                  0                  0   \n",
       "1                  0                  0                  0                  0   \n",
       "2                  0                  0                  0                  0   \n",
       "3                  0                  0                  0                  0   \n",
       "4                  0                  0                  0                  0   \n",
       "\n",
       "   postal_code_94127  postal_code_94131  postal_code_94132  postal_code_94133  \\\n",
       "0                  0                  0                  0                  0   \n",
       "1                  0                  0                  0                  0   \n",
       "2                  0                  0                  0                  0   \n",
       "3                  0                  0                  0                  0   \n",
       "4                  0                  0                  0                  0   \n",
       "\n",
       "   postal_code_94134  postal_code_94158  \n",
       "0                  0                  0  \n",
       "1                  0                  0  \n",
       "2                  0                  0  \n",
       "3                  0                  0  \n",
       "4                  0                  0  \n",
       "\n",
       "[5 rows x 38 columns]"
      ]
     },
     "execution_count": 41,
     "metadata": {},
     "output_type": "execute_result"
    }
   ],
   "source": [
    "data_dir = './data'\n",
    "df = pd.read_csv(path.join(data_dir, 'data_clean_engineered.csv'))\n",
    "df.head()"
   ]
  },
  {
   "cell_type": "code",
   "execution_count": 42,
   "metadata": {},
   "outputs": [],
   "source": [
    "features = [feature for feature in df.columns if feature != 'price']\n",
    "X = df[features]\n",
    "y = df['price']\n",
    "X_np = X.values\n",
    "y_np = y.values.reshape((len(df), 1))"
   ]
  },
  {
   "cell_type": "code",
   "execution_count": 43,
   "metadata": {},
   "outputs": [],
   "source": [
    "X_train, X_val, y_train, y_val = train_test_split(X, y, test_size=0.30, random_state=123) # split 70% train, 30% validation"
   ]
  },
  {
   "cell_type": "code",
   "execution_count": 44,
   "metadata": {},
   "outputs": [],
   "source": [
    "def evaluate_model(model, X, y):\n",
    "    y_pred = model.predict(X) # predict y values from input X\n",
    "    mse = mean_squared_error(y_true=y, y_pred=y_pred)\n",
    "    print(\"Mean Squared Error: {}\".format(mse))\n",
    "    print(\"Accuracy: {}%\".format(model.score(X, y)*100.0))"
   ]
  },
  {
   "cell_type": "markdown",
   "metadata": {},
   "source": [
    "## XGBoost - Extreme Gradient Boosting  \n",
    "[paper](http://www.kdd.org/kdd2016/papers/files/rfp0697-chenAemb.pdf)  \n",
    "\n",
    "XGBoost is a popular machine learning algorithm applied to tabulated data. If tuned properly, it can perform very well across many different datasets and we can even visualize the \"feature importance\" and get an idea of how the model generates its prediction.  \n",
    "  \n",
    "High accuracy *AND* intuitive results? Sign me up!  \n",
    "  \n",
    "  \n",
    "Before proceeding, let's watch a few quick clips to learn more about **Boosting**"
   ]
  },
  {
   "cell_type": "code",
   "execution_count": 45,
   "metadata": {},
   "outputs": [
    {
     "data": {
      "image/jpeg": "[encoded data removed]",
      "text/html": [
       "\n",
       "        <iframe\n",
       "            width=\"400\"\n",
       "            height=\"300\"\n",
       "            src=\"https://www.youtube.com/embed/2Mg8QD0F1dQ\"\n",
       "            frameborder=\"0\"\n",
       "            allowfullscreen\n",
       "        ></iframe>\n",
       "        "
      ],
      "text/plain": [
       "<IPython.lib.display.YouTubeVideo at 0x7fe677392a58>"
      ]
     },
     "execution_count": 45,
     "metadata": {},
     "output_type": "execute_result"
    }
   ],
   "source": [
    "from IPython.display import YouTubeVideo\n",
    "YouTubeVideo(id='2Mg8QD0F1dQ')"
   ]
  },
  {
   "cell_type": "code",
   "execution_count": 46,
   "metadata": {
    "scrolled": true
   },
   "outputs": [
    {
     "data": {
      "image/jpeg": "[encoded data removed]",
      "text/html": [
       "\n",
       "        <iframe\n",
       "            width=\"400\"\n",
       "            height=\"300\"\n",
       "            src=\"https://www.youtube.com/embed/GM3CDQfQ4sw\"\n",
       "            frameborder=\"0\"\n",
       "            allowfullscreen\n",
       "        ></iframe>\n",
       "        "
      ],
      "text/plain": [
       "<IPython.lib.display.YouTubeVideo at 0x7fe677370240>"
      ]
     },
     "execution_count": 46,
     "metadata": {},
     "output_type": "execute_result"
    }
   ],
   "source": [
    "YouTubeVideo(id='GM3CDQfQ4sw')"
   ]
  },
  {
   "cell_type": "markdown",
   "metadata": {},
   "source": [
    "### If time permits: Gradient Boosting whiteboard example\n",
    "http://blog.kaggle.com/2017/01/23/a-kaggle-master-explains-gradient-boosting/"
   ]
  },
  {
   "cell_type": "markdown",
   "metadata": {},
   "source": [
    "Import the xgboost library and fit our regressor same as before"
   ]
  },
  {
   "cell_type": "code",
   "execution_count": 47,
   "metadata": {},
   "outputs": [
    {
     "name": "stdout",
     "output_type": "stream",
     "text": [
      "Mean Squared Error: 312744971143.1122\n",
      "Accuracy: 74.95945453224141%\n"
     ]
    }
   ],
   "source": [
    "from xgboost import XGBRegressor\n",
    "xgb_regressor = XGBRegressor()\n",
    "xgb_model = xgb_regressor.fit(X_train, y_train)\n",
    "evaluate_model(xgb_model, X_val, y_val)"
   ]
  },
  {
   "cell_type": "markdown",
   "metadata": {},
   "source": [
    "### Visualize the Feature Importance that XGBRegressor has assigned"
   ]
  },
  {
   "cell_type": "code",
   "execution_count": 48,
   "metadata": {
    "scrolled": true
   },
   "outputs": [
    {
     "data": {
      "text/html": [
       "<div>\n",
       "<style scoped>\n",
       "    .dataframe tbody tr th:only-of-type {\n",
       "        vertical-align: middle;\n",
       "    }\n",
       "\n",
       "    .dataframe tbody tr th {\n",
       "        vertical-align: top;\n",
       "    }\n",
       "\n",
       "    .dataframe thead th {\n",
       "        text-align: right;\n",
       "    }\n",
       "</style>\n",
       "<table border=\"1\" class=\"dataframe\">\n",
       "  <thead>\n",
       "    <tr style=\"text-align: right;\">\n",
       "      <th></th>\n",
       "      <th>variable</th>\n",
       "      <th>value</th>\n",
       "    </tr>\n",
       "  </thead>\n",
       "  <tbody>\n",
       "    <tr>\n",
       "      <th>2</th>\n",
       "      <td>sqft</td>\n",
       "      <td>0.372457</td>\n",
       "    </tr>\n",
       "    <tr>\n",
       "      <th>0</th>\n",
       "      <td>bath</td>\n",
       "      <td>0.153365</td>\n",
       "    </tr>\n",
       "    <tr>\n",
       "      <th>1</th>\n",
       "      <td>bed</td>\n",
       "      <td>0.054773</td>\n",
       "    </tr>\n",
       "    <tr>\n",
       "      <th>15</th>\n",
       "      <td>postal_code_94105</td>\n",
       "      <td>0.042254</td>\n",
       "    </tr>\n",
       "    <tr>\n",
       "      <th>21</th>\n",
       "      <td>postal_code_94112</td>\n",
       "      <td>0.031299</td>\n",
       "    </tr>\n",
       "    <tr>\n",
       "      <th>35</th>\n",
       "      <td>postal_code_94134</td>\n",
       "      <td>0.029734</td>\n",
       "    </tr>\n",
       "    <tr>\n",
       "      <th>30</th>\n",
       "      <td>postal_code_94124</td>\n",
       "      <td>0.025039</td>\n",
       "    </tr>\n",
       "    <tr>\n",
       "      <th>24</th>\n",
       "      <td>postal_code_94116</td>\n",
       "      <td>0.023474</td>\n",
       "    </tr>\n",
       "    <tr>\n",
       "      <th>9</th>\n",
       "      <td>property_type_lot</td>\n",
       "      <td>0.021909</td>\n",
       "    </tr>\n",
       "    <tr>\n",
       "      <th>29</th>\n",
       "      <td>postal_code_94123</td>\n",
       "      <td>0.020344</td>\n",
       "    </tr>\n",
       "    <tr>\n",
       "      <th>28</th>\n",
       "      <td>postal_code_94122</td>\n",
       "      <td>0.020344</td>\n",
       "    </tr>\n",
       "    <tr>\n",
       "      <th>23</th>\n",
       "      <td>postal_code_94115</td>\n",
       "      <td>0.020344</td>\n",
       "    </tr>\n",
       "    <tr>\n",
       "      <th>10</th>\n",
       "      <td>property_type_new</td>\n",
       "      <td>0.020344</td>\n",
       "    </tr>\n",
       "    <tr>\n",
       "      <th>36</th>\n",
       "      <td>postal_code_94158</td>\n",
       "      <td>0.018779</td>\n",
       "    </tr>\n",
       "    <tr>\n",
       "      <th>6</th>\n",
       "      <td>property_type_condo</td>\n",
       "      <td>0.018779</td>\n",
       "    </tr>\n",
       "    <tr>\n",
       "      <th>22</th>\n",
       "      <td>postal_code_94114</td>\n",
       "      <td>0.017214</td>\n",
       "    </tr>\n",
       "    <tr>\n",
       "      <th>8</th>\n",
       "      <td>property_type_house</td>\n",
       "      <td>0.017214</td>\n",
       "    </tr>\n",
       "    <tr>\n",
       "      <th>34</th>\n",
       "      <td>postal_code_94133</td>\n",
       "      <td>0.012520</td>\n",
       "    </tr>\n",
       "    <tr>\n",
       "      <th>27</th>\n",
       "      <td>postal_code_94121</td>\n",
       "      <td>0.012520</td>\n",
       "    </tr>\n",
       "    <tr>\n",
       "      <th>13</th>\n",
       "      <td>postal_code_94103</td>\n",
       "      <td>0.010955</td>\n",
       "    </tr>\n",
       "    <tr>\n",
       "      <th>17</th>\n",
       "      <td>postal_code_94108</td>\n",
       "      <td>0.010955</td>\n",
       "    </tr>\n",
       "    <tr>\n",
       "      <th>33</th>\n",
       "      <td>postal_code_94132</td>\n",
       "      <td>0.010955</td>\n",
       "    </tr>\n",
       "    <tr>\n",
       "      <th>14</th>\n",
       "      <td>postal_code_94104</td>\n",
       "      <td>0.009390</td>\n",
       "    </tr>\n",
       "    <tr>\n",
       "      <th>19</th>\n",
       "      <td>postal_code_94110</td>\n",
       "      <td>0.009390</td>\n",
       "    </tr>\n",
       "    <tr>\n",
       "      <th>18</th>\n",
       "      <td>postal_code_94109</td>\n",
       "      <td>0.007825</td>\n",
       "    </tr>\n",
       "    <tr>\n",
       "      <th>20</th>\n",
       "      <td>postal_code_94111</td>\n",
       "      <td>0.003130</td>\n",
       "    </tr>\n",
       "    <tr>\n",
       "      <th>12</th>\n",
       "      <td>postal_code_94102</td>\n",
       "      <td>0.003130</td>\n",
       "    </tr>\n",
       "    <tr>\n",
       "      <th>3</th>\n",
       "      <td>property_type_apartment</td>\n",
       "      <td>0.001565</td>\n",
       "    </tr>\n",
       "    <tr>\n",
       "      <th>7</th>\n",
       "      <td>property_type_coop</td>\n",
       "      <td>0.000000</td>\n",
       "    </tr>\n",
       "    <tr>\n",
       "      <th>26</th>\n",
       "      <td>postal_code_94118</td>\n",
       "      <td>0.000000</td>\n",
       "    </tr>\n",
       "    <tr>\n",
       "      <th>11</th>\n",
       "      <td>postal_code_94044</td>\n",
       "      <td>0.000000</td>\n",
       "    </tr>\n",
       "    <tr>\n",
       "      <th>5</th>\n",
       "      <td>property_type_coming</td>\n",
       "      <td>0.000000</td>\n",
       "    </tr>\n",
       "    <tr>\n",
       "      <th>4</th>\n",
       "      <td>property_type_auction</td>\n",
       "      <td>0.000000</td>\n",
       "    </tr>\n",
       "    <tr>\n",
       "      <th>31</th>\n",
       "      <td>postal_code_94127</td>\n",
       "      <td>0.000000</td>\n",
       "    </tr>\n",
       "    <tr>\n",
       "      <th>32</th>\n",
       "      <td>postal_code_94131</td>\n",
       "      <td>0.000000</td>\n",
       "    </tr>\n",
       "    <tr>\n",
       "      <th>16</th>\n",
       "      <td>postal_code_94107</td>\n",
       "      <td>0.000000</td>\n",
       "    </tr>\n",
       "    <tr>\n",
       "      <th>25</th>\n",
       "      <td>postal_code_94117</td>\n",
       "      <td>0.000000</td>\n",
       "    </tr>\n",
       "  </tbody>\n",
       "</table>\n",
       "</div>"
      ],
      "text/plain": [
       "                   variable     value\n",
       "2                      sqft  0.372457\n",
       "0                      bath  0.153365\n",
       "1                       bed  0.054773\n",
       "15        postal_code_94105  0.042254\n",
       "21        postal_code_94112  0.031299\n",
       "35        postal_code_94134  0.029734\n",
       "30        postal_code_94124  0.025039\n",
       "24        postal_code_94116  0.023474\n",
       "9         property_type_lot  0.021909\n",
       "29        postal_code_94123  0.020344\n",
       "28        postal_code_94122  0.020344\n",
       "23        postal_code_94115  0.020344\n",
       "10        property_type_new  0.020344\n",
       "36        postal_code_94158  0.018779\n",
       "6       property_type_condo  0.018779\n",
       "22        postal_code_94114  0.017214\n",
       "8       property_type_house  0.017214\n",
       "34        postal_code_94133  0.012520\n",
       "27        postal_code_94121  0.012520\n",
       "13        postal_code_94103  0.010955\n",
       "17        postal_code_94108  0.010955\n",
       "33        postal_code_94132  0.010955\n",
       "14        postal_code_94104  0.009390\n",
       "19        postal_code_94110  0.009390\n",
       "18        postal_code_94109  0.007825\n",
       "20        postal_code_94111  0.003130\n",
       "12        postal_code_94102  0.003130\n",
       "3   property_type_apartment  0.001565\n",
       "7        property_type_coop  0.000000\n",
       "26        postal_code_94118  0.000000\n",
       "11        postal_code_94044  0.000000\n",
       "5      property_type_coming  0.000000\n",
       "4     property_type_auction  0.000000\n",
       "31        postal_code_94127  0.000000\n",
       "32        postal_code_94131  0.000000\n",
       "16        postal_code_94107  0.000000\n",
       "25        postal_code_94117  0.000000"
      ]
     },
     "execution_count": 48,
     "metadata": {},
     "output_type": "execute_result"
    }
   ],
   "source": [
    "# create a dataframe of feature importances\n",
    "feature_importances = pd.DataFrame(columns=X.columns)\n",
    "feature_importances.loc[0] = xgb_model.feature_importances_\n",
    "# melt columns so we can easily sort and visualize\n",
    "df_melt = pd.melt(feature_importances, value_vars=X.columns).sort_values(by='value', ascending=False)\n",
    "df_melt"
   ]
  },
  {
   "cell_type": "markdown",
   "metadata": {},
   "source": [
    "### Retrain on entire dataset and save model to disk"
   ]
  },
  {
   "cell_type": "code",
   "execution_count": 49,
   "metadata": {},
   "outputs": [],
   "source": [
    "model_dir = './models'"
   ]
  },
  {
   "cell_type": "code",
   "execution_count": 50,
   "metadata": {},
   "outputs": [],
   "source": [
    "xgb_model = xgb_regressor.fit(X, y)\n",
    "with open(path.join(model_dir, 'xgb.pkl'), 'wb') as f:\n",
    "    pickle.dump(xgb_model, f)"
   ]
  },
  {
   "cell_type": "markdown",
   "metadata": {},
   "source": [
    "# Let's train a few different regressors"
   ]
  },
  {
   "cell_type": "markdown",
   "metadata": {},
   "source": [
    "## Random Forest  \n",
    "https://en.wikipedia.org/wiki/Random_forest"
   ]
  },
  {
   "cell_type": "code",
   "execution_count": 51,
   "metadata": {},
   "outputs": [
    {
     "name": "stdout",
     "output_type": "stream",
     "text": [
      "Mean Squared Error: 353217067202.15643\n",
      "Accuracy: 71.7189760112351%\n"
     ]
    }
   ],
   "source": [
    "from sklearn.ensemble import RandomForestRegressor\n",
    "rf_regressor = RandomForestRegressor()\n",
    "rf_model = rf_regressor.fit(X_train, y_train)\n",
    "evaluate_model(rf_model, X_val, y_val)\n",
    "rf_model = rf_regressor.fit(X, y)\n",
    "with open(path.join('random_forest.pkl'), 'wb') as f:\n",
    "    pickle.dump(rf_model, f)"
   ]
  },
  {
   "cell_type": "markdown",
   "metadata": {},
   "source": [
    "## MultiLayer Perceptron\n",
    "https://en.wikipedia.org/wiki/Multilayer_perceptron"
   ]
  },
  {
   "cell_type": "code",
   "execution_count": 52,
   "metadata": {},
   "outputs": [
    {
     "name": "stdout",
     "output_type": "stream",
     "text": [
      "Mean Squared Error: 528208430561.21594\n",
      "Accuracy: 57.70794595488786%\n"
     ]
    }
   ],
   "source": [
    "from sklearn.neural_network import MLPRegressor\n",
    "mlp_regressor = MLPRegressor(max_iter=20000, random_state=123, solver='lbfgs')\n",
    "mlp_model = mlp_regressor.fit(X_train, y_train)\n",
    "evaluate_model(mlp_model, X_val, y_val)\n",
    "mlp_model = mlp_regressor.fit(X, y)\n",
    "with open(path.join(model_dir, 'mlp.pkl'), 'wb') as f:\n",
    "    pickle.dump(mlp_model, f)"
   ]
  },
  {
   "cell_type": "markdown",
   "metadata": {},
   "source": [
    "## Kernel Ridge Regression"
   ]
  },
  {
   "cell_type": "code",
   "execution_count": 53,
   "metadata": {},
   "outputs": [
    {
     "name": "stdout",
     "output_type": "stream",
     "text": [
      "Mean Squared Error: 316946430096.5449\n",
      "Accuracy: 74.62305640065895%\n"
     ]
    }
   ],
   "source": [
    "from sklearn.kernel_ridge import KernelRidge\n",
    "krr_regressor = KernelRidge(alpha=0.6, kernel='polynomial', degree=2, coef0=2.5, )\n",
    "krr_model = krr_regressor.fit(X_train, y_train)\n",
    "evaluate_model(krr_model, X_val, y_val)\n",
    "krr_model = krr_regressor.fit(X, y)\n",
    "with open(path.join(model_dir, 'krr.pkl'), 'wb') as f:\n",
    "    pickle.dump(krr_model, f)"
   ]
  },
  {
   "cell_type": "markdown",
   "metadata": {},
   "source": [
    "## ElasticNet"
   ]
  },
  {
   "cell_type": "code",
   "execution_count": 54,
   "metadata": {},
   "outputs": [
    {
     "name": "stdout",
     "output_type": "stream",
     "text": [
      "Mean Squared Error: 396472222683.61145\n",
      "Accuracy: 68.25566632606449%\n"
     ]
    },
    {
     "name": "stderr",
     "output_type": "stream",
     "text": [
      "/usr/local/lib/python3.6/dist-packages/sklearn/linear_model/coordinate_descent.py:491: ConvergenceWarning: Objective did not converge. You might want to increase the number of iterations. Fitting data with very small alpha may cause precision problems.\n",
      "  ConvergenceWarning)\n"
     ]
    }
   ],
   "source": [
    "from sklearn.linear_model import ElasticNet\n",
    "eln_regressor = ElasticNet(alpha=0.0005, l1_ratio=.9, random_state=3, max_iter=1000)\n",
    "eln_model = eln_regressor.fit(X_train, y_train)\n",
    "evaluate_model(eln_model, X_val, y_val)\n",
    "eln_model = eln_regressor.fit(X, y)\n",
    "with open(path.join(model_dir, 'eln.pkl'), 'wb') as f:\n",
    "    pickle.dump(eln_model, f)"
   ]
  }
 ],
 "metadata": {
  "kernelspec": {
   "display_name": "Python 3",
   "language": "python",
   "name": "python3"
  },
  "language_info": {
   "codemirror_mode": {
    "name": "ipython",
    "version": 3
   },
   "file_extension": ".py",
   "mimetype": "text/x-python",
   "name": "python",
   "nbconvert_exporter": "python",
   "pygments_lexer": "ipython3",
   "version": "3.6.5"
  }
 },
 "nbformat": 4,
 "nbformat_minor": 2
}
