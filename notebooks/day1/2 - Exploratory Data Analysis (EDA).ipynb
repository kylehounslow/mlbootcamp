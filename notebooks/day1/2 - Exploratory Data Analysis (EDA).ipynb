{
 "cells": [
  {
   "cell_type": "markdown",
   "metadata": {
    "colab_type": "text",
    "id": "2DwyRzNQSwBx"
   },
   "source": [
    "# Part 2 - Exploratory Data Analysis (EDA)"
   ]
  },
  {
   "cell_type": "markdown",
   "metadata": {
    "colab_type": "text",
    "id": "BgS_ZteiSwBy"
   },
   "source": [
    "In this notebook we perform an Exploratory Data Analysis (EDA) of our San Francisco housing prices dataset.  \n",
    "It is always best to start with an EDA *before* training your machine learning algorithm.  \n",
    "EDA uses statistical and visualization techniques to give us more insight about our dataset.  \n",
    "  \n",
    "**Note:** Most of these EDA techniques were adopted from various [Kaggle] kernels. I'd like to thank those authors for their generous contributions to the Data Science and Machine Learning community  \n",
    "\n",
    "### Upon completing this notebook, we will have:  \n",
    "* Familiarity with [Pandas] and [NumPy] for data management and analysis\n",
    "* Familiarity with [Matplotlib] and [seaborn] for visualization\n",
    "* A better understanding of the characteristics of our dataset\n",
    "[Pandas]: https://pandas.pydata.org/\n",
    "[NumPy]: http://www.numpy.org/\n",
    "[Matplotlib]: https://matplotlib.org/\n",
    "[seaborn]: https://seaborn.pydata.org/\n",
    "[Kaggle]: https://www.kaggle.com/"
   ]
  },
  {
   "cell_type": "code",
   "execution_count": 1,
   "metadata": {
    "colab": {
     "autoexec": {
      "startup": false,
      "wait_interval": 0
     },
     "base_uri": "https://localhost:8080/",
     "height": 238
    },
    "colab_type": "code",
    "executionInfo": {
     "elapsed": 2718,
     "status": "ok",
     "timestamp": 1525913486374,
     "user": {
      "displayName": "Kyle Hounslow",
      "photoUrl": "//lh5.googleusercontent.com/-EUCBmPgnjFM/AAAAAAAAAAI/AAAAAAAAAlg/Kla-xE5h8As/s50-c-k-no/photo.jpg",
      "userId": "116524524952241706076"
     },
     "user_tz": 420
    },
    "id": "rGLyu-oeh2DF",
    "outputId": "bcba7051-7d38-4ccc-d4e8-eb31120f6cc6",
    "scrolled": true
   },
   "outputs": [
    {
     "name": "stdout",
     "output_type": "stream",
     "text": [
      "Requirement already satisfied: geopy in /usr/local/lib/python3.6/dist-packages (1.13.0)\n",
      "Requirement already satisfied: geojson in /usr/local/lib/python3.6/dist-packages (2.3.0)\n",
      "Requirement already satisfied: folium in /usr/local/lib/python3.6/dist-packages (0.5.0)\n",
      "Requirement already satisfied: branca in /usr/local/lib/python3.6/dist-packages (0.3.0)\n",
      "Requirement already satisfied: geographiclib<2,>=1.49 in /usr/local/lib/python3.6/dist-packages (from geopy) (1.49)\n",
      "Requirement already satisfied: six in /usr/local/lib/python3.6/dist-packages (from folium) (1.11.0)\n",
      "Requirement already satisfied: requests in /usr/local/lib/python3.6/dist-packages (from folium) (2.18.4)\n",
      "Requirement already satisfied: jinja2 in /usr/local/lib/python3.6/dist-packages (from folium) (2.10)\n",
      "Requirement already satisfied: chardet<3.1.0,>=3.0.2 in /usr/local/lib/python3.6/dist-packages (from requests->folium) (3.0.4)\n",
      "Requirement already satisfied: urllib3<1.23,>=1.21.1 in /usr/local/lib/python3.6/dist-packages (from requests->folium) (1.22)\n",
      "Requirement already satisfied: idna<2.7,>=2.5 in /usr/local/lib/python3.6/dist-packages (from requests->folium) (2.6)\n",
      "Requirement already satisfied: certifi>=2017.4.17 in /usr/local/lib/python3.6/dist-packages (from requests->folium) (2018.4.16)\n",
      "Requirement already satisfied: MarkupSafe>=0.23 in /usr/local/lib/python3.6/dist-packages (from jinja2->folium) (1.0)\n",
      "\u001b[31mtb-nightly 1.8.0a20180424 has requirement bleach==1.5.0, but you'll have bleach 2.1.3 which is incompatible.\u001b[0m\n",
      "\u001b[31mbleach 2.1.3 has requirement html5lib!=1.0b1,!=1.0b2,!=1.0b3,!=1.0b4,!=1.0b5,!=1.0b6,!=1.0b7,!=1.0b8,>=0.99999999pre, but you'll have html5lib 0.9999999 which is incompatible.\u001b[0m\n"
     ]
    }
   ],
   "source": [
    "# some python libs are missing if using Colab\n",
    "!pip install geopy geojson folium branca"
   ]
  },
  {
   "cell_type": "code",
   "execution_count": 4,
   "metadata": {
    "colab": {
     "autoexec": {
      "startup": false,
      "wait_interval": 0
     }
    },
    "colab_type": "code",
    "id": "971I3-tMSwBz"
   },
   "outputs": [],
   "source": [
    "import os\n",
    "import re\n",
    "import time\n",
    "import random\n",
    "import glob\n",
    "import zipfile\n",
    "import urllib.request\n",
    "import numpy as np\n",
    "import pandas as pd\n",
    "from scipy import stats\n",
    "import matplotlib.pyplot as plt\n",
    "import seaborn as sns\n",
    "from geopy import Nominatim\n",
    "import geojson\n",
    "import folium\n",
    "from branca.colormap import LinearColormap, StepColormap\n",
    "from IPython.display import clear_output\n",
    "\n",
    "%matplotlib inline"
   ]
  },
  {
   "cell_type": "markdown",
   "metadata": {},
   "source": [
    "Load the data from previous notebook"
   ]
  },
  {
   "cell_type": "markdown",
   "metadata": {},
   "source": [
    "If running on colab, download the `util.py` script"
   ]
  },
  {
   "cell_type": "code",
   "execution_count": 11,
   "metadata": {},
   "outputs": [],
   "source": [
    "if not os.path.exists('util.py'):\n",
    "    data_download_url = 'https://raw.githubusercontent.com/kylehounslow/mlbootcamp/master/notebooks/day1/util.py'\n",
    "    urllib.request.urlretrieve(data_download_url, 'util.py')\n",
    "    if os.path.exists('util.py'):\n",
    "        print(\"util.py downloaded successfully\")\n",
    "    else:\n",
    "        print(\"error downloading util.py. Blame kyle.hounslow@gmail.com\")"
   ]
  },
  {
   "cell_type": "code",
   "execution_count": 12,
   "metadata": {},
   "outputs": [
    {
     "name": "stdout",
     "output_type": "stream",
     "text": [
      "downloading data...\n",
      "extracting data to ./tmp...\n",
      "Done.\n",
      "loading data ./tmp/**/*.csv\n",
      "Found a total of 1262 data points\n"
     ]
    },
    {
     "data": {
      "text/html": [
       "<div>\n",
       "<style scoped>\n",
       "    .dataframe tbody tr th:only-of-type {\n",
       "        vertical-align: middle;\n",
       "    }\n",
       "\n",
       "    .dataframe tbody tr th {\n",
       "        vertical-align: top;\n",
       "    }\n",
       "\n",
       "    .dataframe thead th {\n",
       "        text-align: right;\n",
       "    }\n",
       "</style>\n",
       "<table border=\"1\" class=\"dataframe\">\n",
       "  <thead>\n",
       "    <tr style=\"text-align: right;\">\n",
       "      <th></th>\n",
       "      <th>title</th>\n",
       "      <th>address</th>\n",
       "      <th>city</th>\n",
       "      <th>state</th>\n",
       "      <th>postal_code</th>\n",
       "      <th>price</th>\n",
       "      <th>facts and features</th>\n",
       "      <th>real estate provider</th>\n",
       "      <th>url</th>\n",
       "      <th>bed</th>\n",
       "      <th>bath</th>\n",
       "      <th>sqft</th>\n",
       "      <th>property_type</th>\n",
       "    </tr>\n",
       "  </thead>\n",
       "  <tbody>\n",
       "    <tr>\n",
       "      <th>0</th>\n",
       "      <td>New Construction</td>\n",
       "      <td>288 Pacific Ave # 67UQRR</td>\n",
       "      <td>San Francisco</td>\n",
       "      <td>CA</td>\n",
       "      <td>94111</td>\n",
       "      <td>NaN</td>\n",
       "      <td>-- bds , -- ba , -- sqft</td>\n",
       "      <td>NaN</td>\n",
       "      <td>https://www.zillow.com/community/288-pacific/2...</td>\n",
       "      <td>NaN</td>\n",
       "      <td>NaN</td>\n",
       "      <td>NaN</td>\n",
       "      <td>new</td>\n",
       "    </tr>\n",
       "    <tr>\n",
       "      <th>1</th>\n",
       "      <td>Condo For Sale</td>\n",
       "      <td>733 Front St UNIT 606</td>\n",
       "      <td>SAN FRANCISCO</td>\n",
       "      <td>CA</td>\n",
       "      <td>94111</td>\n",
       "      <td>1195000.0</td>\n",
       "      <td>1 bd , 1 ba , 920 sqft</td>\n",
       "      <td>Climb Real Estate</td>\n",
       "      <td>https://www.zillow.com/homedetails/733-Front-S...</td>\n",
       "      <td>1.0</td>\n",
       "      <td>1.0</td>\n",
       "      <td>920.0</td>\n",
       "      <td>condo</td>\n",
       "    </tr>\n",
       "    <tr>\n",
       "      <th>2</th>\n",
       "      <td>Condo For Sale</td>\n",
       "      <td>101 Lombard St APT 401W</td>\n",
       "      <td>SAN FRANCISCO</td>\n",
       "      <td>CA</td>\n",
       "      <td>94111</td>\n",
       "      <td>1425000.0</td>\n",
       "      <td>2 bds , 2 ba , 1,238 sqft</td>\n",
       "      <td>Paragon Real Estate Group</td>\n",
       "      <td>https://www.zillow.com/homedetails/101-Lombard...</td>\n",
       "      <td>2.0</td>\n",
       "      <td>2.0</td>\n",
       "      <td>1238.0</td>\n",
       "      <td>condo</td>\n",
       "    </tr>\n",
       "    <tr>\n",
       "      <th>3</th>\n",
       "      <td>Condo For Sale</td>\n",
       "      <td>111 Chestnut St UNIT 109</td>\n",
       "      <td>SAN FRANCISCO</td>\n",
       "      <td>CA</td>\n",
       "      <td>94111</td>\n",
       "      <td>1600000.0</td>\n",
       "      <td>2 bds , 2 ba , 1,925 sqft</td>\n",
       "      <td>CENTURY 21 Real Estate Alliance</td>\n",
       "      <td>https://www.zillow.com/homedetails/111-Chestnu...</td>\n",
       "      <td>2.0</td>\n",
       "      <td>2.0</td>\n",
       "      <td>1925.0</td>\n",
       "      <td>condo</td>\n",
       "    </tr>\n",
       "    <tr>\n",
       "      <th>4</th>\n",
       "      <td>Lot/Land For Sale</td>\n",
       "      <td>1235 Sansome St</td>\n",
       "      <td>San Francisco</td>\n",
       "      <td>CA</td>\n",
       "      <td>94111</td>\n",
       "      <td>998000.0</td>\n",
       "      <td>6,882 sqft lot</td>\n",
       "      <td>NaN</td>\n",
       "      <td>https://www.zillow.com/homedetails/1235-Sansom...</td>\n",
       "      <td>NaN</td>\n",
       "      <td>NaN</td>\n",
       "      <td>6882.0</td>\n",
       "      <td>lot</td>\n",
       "    </tr>\n",
       "  </tbody>\n",
       "</table>\n",
       "</div>"
      ],
      "text/plain": [
       "               title                   address           city state  \\\n",
       "0   New Construction  288 Pacific Ave # 67UQRR  San Francisco    CA   \n",
       "1     Condo For Sale     733 Front St UNIT 606  SAN FRANCISCO    CA   \n",
       "2     Condo For Sale   101 Lombard St APT 401W  SAN FRANCISCO    CA   \n",
       "3     Condo For Sale  111 Chestnut St UNIT 109  SAN FRANCISCO    CA   \n",
       "4  Lot/Land For Sale           1235 Sansome St  San Francisco    CA   \n",
       "\n",
       "  postal_code      price         facts and features  \\\n",
       "0       94111        NaN   -- bds , -- ba , -- sqft   \n",
       "1       94111  1195000.0     1 bd , 1 ba , 920 sqft   \n",
       "2       94111  1425000.0  2 bds , 2 ba , 1,238 sqft   \n",
       "3       94111  1600000.0  2 bds , 2 ba , 1,925 sqft   \n",
       "4       94111   998000.0             6,882 sqft lot   \n",
       "\n",
       "              real estate provider  \\\n",
       "0                              NaN   \n",
       "1                Climb Real Estate   \n",
       "2        Paragon Real Estate Group   \n",
       "3  CENTURY 21 Real Estate Alliance   \n",
       "4                              NaN   \n",
       "\n",
       "                                                 url  bed  bath    sqft  \\\n",
       "0  https://www.zillow.com/community/288-pacific/2...  NaN   NaN     NaN   \n",
       "1  https://www.zillow.com/homedetails/733-Front-S...  1.0   1.0   920.0   \n",
       "2  https://www.zillow.com/homedetails/101-Lombard...  2.0   2.0  1238.0   \n",
       "3  https://www.zillow.com/homedetails/111-Chestnu...  2.0   2.0  1925.0   \n",
       "4  https://www.zillow.com/homedetails/1235-Sansom...  NaN   NaN  6882.0   \n",
       "\n",
       "  property_type  \n",
       "0           new  \n",
       "1         condo  \n",
       "2         condo  \n",
       "3         condo  \n",
       "4           lot  "
      ]
     },
     "execution_count": 12,
     "metadata": {},
     "output_type": "execute_result"
    }
   ],
   "source": [
    "import util\n",
    "df = util.load_sf_housing_dataset()\n",
    "df.head()"
   ]
  },
  {
   "cell_type": "markdown",
   "metadata": {},
   "source": [
    "We will use `Seaborn` to visualize the data."
   ]
  },
  {
   "cell_type": "markdown",
   "metadata": {
    "colab_type": "text",
    "id": "KK7Ej4RoSwCb"
   },
   "source": [
    "### Plot histogram of prices"
   ]
  },
  {
   "cell_type": "code",
   "execution_count": 13,
   "metadata": {
    "colab": {
     "autoexec": {
      "startup": false,
      "wait_interval": 0
     }
    },
    "colab_type": "code",
    "id": "_1NXQG6RSwCb",
    "outputId": "1ce5d9c2-fbe0-4924-917a-66999b471645"
   },
   "outputs": [
    {
     "name": "stderr",
     "output_type": "stream",
     "text": [
      "/usr/local/lib/python3.6/dist-packages/matplotlib/axes/_axes.py:6462: UserWarning: The 'normed' kwarg is deprecated, and has been replaced by the 'density' kwarg.\n",
      "  warnings.warn(\"The 'normed' kwarg is deprecated, and has been \"\n"
     ]
    },
    {
     "data": {
      "text/plain": [
       "<matplotlib.axes._subplots.AxesSubplot at 0x7f0e48147fd0>"
      ]
     },
     "execution_count": 13,
     "metadata": {},
     "output_type": "execute_result"
    },
    {
     "data": {
      "image/png": "[encoded data removed]",
      "text/plain": [
       "<Figure size 864x576 with 1 Axes>"
      ]
     },
     "metadata": {},
     "output_type": "display_data"
    }
   ],
   "source": [
    "# globally set our seaborn plot size to 12 by 8 inches:\n",
    "sns.set(rc={'figure.figsize':(12, 8)})\n",
    "\n",
    "def plot_prices(df: pd.DataFrame, bins: list):\n",
    "    fig, ax = plt.subplots()\n",
    "    ax.set_xticks(bins)\n",
    "    plt.xticks(rotation='vertical')\n",
    "    return sns.distplot(df.price, bins=bins)\n",
    "\n",
    "bins = range(int(df.price.min()), int(df.price.max()), 500000)\n",
    "plot_prices(df.dropna(), bins)"
   ]
  },
  {
   "cell_type": "markdown",
   "metadata": {
    "colab_type": "text",
    "id": "lgId10J6SwCd"
   },
   "source": [
    "### Definitely a skewed distribution, looks as if we have a few outliers at the higher range of the prices.  \n",
    "### We can quantify how \"non-normal\" our distribution is by calculating:  \n",
    "* `Skewness` - A measure of the symmetry (or lack thereof) of a distribution\n",
    "* `Kurtosis` - Whether distrubition is \"heavy-tailed\" or \"light-tailed\" or in other words: how \"sharp\" the peak is."
   ]
  },
  {
   "cell_type": "code",
   "execution_count": 128,
   "metadata": {
    "colab": {
     "autoexec": {
      "startup": false,
      "wait_interval": 0
     }
    },
    "colab_type": "code",
    "id": "peMZDui8SwCe",
    "outputId": "3966700b-8795-43fd-9023-ceac7e903f06"
   },
   "outputs": [
    {
     "name": "stdout",
     "output_type": "stream",
     "text": [
      "Skewness: 4.360084\n",
      "Kurtosis: 26.174060\n"
     ]
    }
   ],
   "source": [
    "#skewness and kurtosis\n",
    "print(\"Skewness: %f\" % df['price'].skew())\n",
    "print(\"Kurtosis: %f\" % df['price'].kurt())"
   ]
  },
  {
   "cell_type": "markdown",
   "metadata": {
    "colab_type": "text",
    "id": "HorYrnP8SwCf"
   },
   "source": [
    "## Plot with outliers removed"
   ]
  },
  {
   "cell_type": "code",
   "execution_count": 129,
   "metadata": {
    "colab": {
     "autoexec": {
      "startup": false,
      "wait_interval": 0
     }
    },
    "colab_type": "code",
    "id": "UOf0CbM0SwCg",
    "outputId": "8eede0a9-80a2-4cbf-bbe0-ccccf4dbc35e"
   },
   "outputs": [
    {
     "name": "stderr",
     "output_type": "stream",
     "text": [
      "/usr/local/lib/python3.6/dist-packages/matplotlib/axes/_axes.py:6462: UserWarning: The 'normed' kwarg is deprecated, and has been replaced by the 'density' kwarg.\n",
      "  warnings.warn(\"The 'normed' kwarg is deprecated, and has been \"\n"
     ]
    },
    {
     "name": "stdout",
     "output_type": "stream",
     "text": [
      "Skewness (outliers removed): 1.927261\n",
      "Kurtosis (outliers removed): 3.995836\n"
     ]
    },
    {
     "data": {
      "image/png": "[encoded data removed]",
      "text/plain": [
       "<Figure size 864x576 with 1 Axes>"
      ]
     },
     "metadata": {},
     "output_type": "display_data"
    }
   ],
   "source": [
    "df_no_outliers = df[df.price < 7e6]\n",
    "bins = range(int(df_no_outliers.price.min()),int(df_no_outliers.price.max()),500000)\n",
    "plot_prices(df_no_outliers, bins)\n",
    "print(\"Skewness (outliers removed): %f\" % df_no_outliers['price'].skew())\n",
    "print(\"Kurtosis (outliers removed): %f\" % df_no_outliers['price'].kurt())"
   ]
  },
  {
   "cell_type": "markdown",
   "metadata": {
    "colab_type": "text",
    "id": "JQGdaacOSwCi"
   },
   "source": [
    "### Removing the outliers improved our skewness and kurtosis values.\n",
    "We will remember this when cleaning the data for our model. Machine learning models work best with normally distributed data. Outliers may affect model performance."
   ]
  },
  {
   "cell_type": "markdown",
   "metadata": {
    "colab_type": "text",
    "id": "S3VDRFf-SwCi"
   },
   "source": [
    "## Plot missing values.\n",
    "Recall that there were some columns which are incomplete. Plot a bar graph describing this:"
   ]
  },
  {
   "cell_type": "code",
   "execution_count": null,
   "metadata": {
    "colab": {
     "autoexec": {
      "startup": false,
      "wait_interval": 0
     }
    },
    "colab_type": "code",
    "id": "LkJGeLJvSwCj",
    "outputId": "ff509184-1991-4cc3-c0f7-5362d31db8e5"
   },
   "outputs": [],
   "source": [
    "missing = df.isnull().sum()\n",
    "missing = missing[missing > 0]\n",
    "missing.sort_values(inplace=True)\n",
    "missing.plot.bar()"
   ]
  },
  {
   "cell_type": "markdown",
   "metadata": {
    "colab_type": "text",
    "id": "unVCdHgqSwCl"
   },
   "source": [
    "Variables that are missing values can either be removed from the dataset or have their missing values replaced (perhaps with 0 or the mean of the column). This is called **Imputing**. We will learn about imputing data in a later notebook"
   ]
  },
  {
   "cell_type": "markdown",
   "metadata": {
    "colab_type": "text",
    "id": "B7LiWA1RSwCl"
   },
   "source": [
    "## Visualize the house prices w.r.t. location with a slippy map  \n",
    "We have some location information in the `address` column. We can use geocoding to convert the string address to Lat Long.  "
   ]
  },
  {
   "cell_type": "markdown",
   "metadata": {},
   "source": [
    "Define our geocoding function:"
   ]
  },
  {
   "cell_type": "code",
   "execution_count": null,
   "metadata": {
    "colab": {
     "autoexec": {
      "startup": false,
      "wait_interval": 0
     }
    },
    "colab_type": "code",
    "id": "3xwJBKMVSwCm"
   },
   "outputs": [],
   "source": [
    "NUM_RETRIES = 3 # number of retries for request\n",
    "def address_to_latlng(dataframe: pd.DataFrame) -> pd.DataFrame:\n",
    "    \"\"\"\n",
    "    Fetch LatLng coords using Nominatim\n",
    "    \n",
    "    Args:\n",
    "        dataframe: pd.DataFrame containing `address` and `city` columns\n",
    "    Returns:\n",
    "        pd.DataFrame: dataframe with `latlng` column added\n",
    "        \n",
    "    \"\"\"\n",
    "    dataframe = dataframe.copy()\n",
    "    geocoder = Nominatim()\n",
    "    latlngs = []\n",
    "    print(\"fetching LatLng coords...\")\n",
    "    for address, city in zip(dataframe.address, dataframe.city):\n",
    "        time.sleep(int(random.randint(0,6)/3)) # try not to get your ip blacklisted by Nominatim\n",
    "        clear_output(wait=True)\n",
    "        location = None\n",
    "        for i in range(NUM_RETRIES):\n",
    "            try:\n",
    "                location = geocoder.geocode(f'{address} {city}')\n",
    "                break\n",
    "            except Exception as e:\n",
    "                print(f\"Error: {e}\")\n",
    "        if location:\n",
    "            latlngs.append((location.latitude, location.longitude))\n",
    "        else:\n",
    "            latlngs.append(None)\n",
    "        print(f'{len(latlngs)+1}/{len(dataframe)} complete...')\n",
    "    dataframe['latlng'] = latlngs\n",
    "    return dataframe"
   ]
  },
  {
   "cell_type": "markdown",
   "metadata": {
    "colab_type": "text",
    "id": "Nql1mM6gSwCn"
   },
   "source": [
    "The above function `generate_latlng()` takes a while to run since we call a web service `Nominatim` to perform the address --> latlng lookup.  \n",
    "You can choose to load from a pre-processed csv file `data_w_latlng.csv` which is provided (Recommended)"
   ]
  },
  {
   "cell_type": "code",
   "execution_count": null,
   "metadata": {
    "colab": {
     "autoexec": {
      "startup": false,
      "wait_interval": 0
     }
    },
    "colab_type": "code",
    "id": "umJqMeVxSwCo"
   },
   "outputs": [],
   "source": [
    "# uncomment below to fetch LatLng coords from Nominatim (takes a while ~30mins)\n",
    "################################################\n",
    "# df = address_to_latlng(df)\n",
    "# df.to_csv('data_w_latlng.csv', index=False)\n",
    "################################################\n",
    "# load pre-fetched latlng data\n",
    "df = pd.read_csv(os.path.join(data_dir, 'data_w_latlng.csv'))"
   ]
  },
  {
   "cell_type": "markdown",
   "metadata": {},
   "source": [
    "The dataframe should now have a new `latlng` column"
   ]
  },
  {
   "cell_type": "code",
   "execution_count": null,
   "metadata": {
    "colab": {
     "autoexec": {
      "startup": false,
      "wait_interval": 0
     }
    },
    "colab_type": "code",
    "id": "hpvwwhtSSwCu",
    "outputId": "a5d7345d-f436-4471-bfaf-deeeba42eb57"
   },
   "outputs": [],
   "source": [
    "df.head(10)"
   ]
  },
  {
   "cell_type": "markdown",
   "metadata": {
    "colab_type": "text",
    "id": "WYWcve7bSwCw"
   },
   "source": [
    "We use [folium](https://github.com/python-visualization/folium) to render the slippy map in the notebook.  \n",
    "Note that there are hundreds of houses to be displayed and this requires a fair bit of RAM. If your browser crashes you can adjust the amount to be displayed by changing the variable `display_max`."
   ]
  },
  {
   "cell_type": "markdown",
   "metadata": {},
   "source": [
    "Define slippy map drawing function:"
   ]
  },
  {
   "cell_type": "code",
   "execution_count": null,
   "metadata": {
    "colab": {
     "autoexec": {
      "startup": false,
      "wait_interval": 0
     }
    },
    "colab_type": "code",
    "id": "-V9SbI1ASwCy",
    "outputId": "deb64fe2-9785-4195-a175-b966ddb1404f"
   },
   "outputs": [],
   "source": [
    "def draw_houses_on_map(dataframe: pd.DataFrame):\n",
    "    dataframe = dataframe.copy()\n",
    "    # create a folium map object centered in SF\n",
    "    m = folium.Map(location=(37.7, -122.4))\n",
    "    # create a colormap of the prices (we limit prices between 5e5 and 10e6)\n",
    "    colors = ['gray', 'green','blue','red','orange', 'yellow']\n",
    "    min_price, max_price = 5e5, 6e6\n",
    "    colormap = StepColormap(colors=colors,vmin=min_price, vmax=max_price, caption='price')\n",
    "    m.add_child(colormap)\n",
    "    # amount of points to render on the map. WARNING: significant RAM required to plot all points and may crash your browser \n",
    "    display_max = len(dataframe) # plot all\n",
    "    # display_max = 100 # uncomment and adjust this number if needed\n",
    "    displayed = 0\n",
    "    for i, latlng in zip(dataframe.index, dataframe['latlng']):\n",
    "        price = dataframe.loc[i, 'price']\n",
    "        if latlng is not None:\n",
    "            if isinstance(latlng, str):\n",
    "                lat, lng = latlng.replace('(','').replace(')','').split(',')\n",
    "                latlng = (float(lat), float(lng))\n",
    "            if not isinstance(latlng, tuple):\n",
    "                continue\n",
    "            style = {'fillColor': colormap(price),\n",
    "                    'color' : colormap(price)}\n",
    "            p = geojson.Point(coordinates=(latlng[1], latlng[0]), style=style)\n",
    "            # build an HTML string to be displayed if we click a marker.\n",
    "            html_info = '<li>Price: ${}</li><li>Property Type: {}</li>'.format(dataframe.loc[i, 'price'], dataframe.loc[i, 'property_type'])\n",
    "            m.add_child(folium.Marker(location=latlng, icon=folium.Icon(color='black', icon_color=colormap(price)), popup=folium.Popup(html=html_info)))\n",
    "            displayed += 1\n",
    "            if displayed > display_max:\n",
    "                break\n",
    "    return m"
   ]
  },
  {
   "cell_type": "markdown",
   "metadata": {},
   "source": [
    "Draw slippy map:"
   ]
  },
  {
   "cell_type": "code",
   "execution_count": null,
   "metadata": {
    "colab": {
     "autoexec": {
      "startup": false,
      "wait_interval": 0
     }
    },
    "colab_type": "code",
    "id": "-V9SbI1ASwCy",
    "outputId": "deb64fe2-9785-4195-a175-b966ddb1404f"
   },
   "outputs": [],
   "source": [
    "draw_houses_on_map(df)"
   ]
  },
  {
   "cell_type": "markdown",
   "metadata": {
    "colab_type": "text",
    "id": "suop3niZSwC0"
   },
   "source": [
    "We can observe some patterns w.r.t. location.  \n",
    "The more expensive homes are Central and North and the \"lower\" (finger quotes) priced homes are South, West and East.\n",
    "\n",
    "## Next, let's see how some of the variables interact with the list price.  \n",
    "Since `price` is the dependent variable which we are trying to predict, it is important to visualize how it relates to the independent variables (`sqft`, `bed`, `bath`, etc.)"
   ]
  },
  {
   "cell_type": "markdown",
   "metadata": {
    "colab_type": "text",
    "id": "rW9VYuOuSwC1"
   },
   "source": [
    "### Plot `price` vs. `sqft`"
   ]
  },
  {
   "cell_type": "code",
   "execution_count": null,
   "metadata": {
    "colab": {
     "autoexec": {
      "startup": false,
      "wait_interval": 0
     }
    },
    "colab_type": "code",
    "id": "SLEs_2HqSwC1",
    "outputId": "b400ee1b-1f89-4d4f-e63a-dd6ff146d180"
   },
   "outputs": [],
   "source": [
    "var = 'sqft'\n",
    "sns.regplot(df[var], df['price'], fit_reg=False)"
   ]
  },
  {
   "cell_type": "markdown",
   "metadata": {
    "colab_type": "text",
    "id": "yrCumELBSwC5"
   },
   "source": [
    "The relationship looks linear with some spreading as sqft increases.  \n",
    "We can also see there are some houses with almost zero square feet! Let's investigate why:  \n",
    "  \n",
    "First, a quick note on `pandas.DataFrame` indexing:  \n",
    "* `df['sqft'] < condition` gives us a \"truth array\" where True values match the condition and False otherwise. If we index the original DataFrame with this truth array we get a filtered result  \n",
    "  \n",
    "See [pandas documentiation on indexing](https://pandas.pydata.org/pandas-docs/stable/indexing.html) for more details"
   ]
  },
  {
   "cell_type": "code",
   "execution_count": null,
   "metadata": {
    "colab": {
     "autoexec": {
      "startup": false,
      "wait_interval": 0
     }
    },
    "colab_type": "code",
    "id": "FEOtl6DFSwC5",
    "outputId": "2a82b156-f7e3-4cc1-97c8-3c2aee5b6d49"
   },
   "outputs": [],
   "source": [
    "# filter the DataFrame with nearly zero sqft\n",
    "df[df['sqft'] < 10].head()"
   ]
  },
  {
   "cell_type": "markdown",
   "metadata": {
    "colab_type": "text",
    "id": "DAnGxeNdSwC7"
   },
   "source": [
    "Looks like we have some bad data from the web scraping. We will remember to remove these when we get to our data cleaning notebook"
   ]
  },
  {
   "cell_type": "markdown",
   "metadata": {
    "colab_type": "text",
    "id": "xXuDpEsGSwC8"
   },
   "source": [
    "### Plot `price` vs. `bed`  "
   ]
  },
  {
   "cell_type": "code",
   "execution_count": null,
   "metadata": {
    "colab": {
     "autoexec": {
      "startup": false,
      "wait_interval": 0
     }
    },
    "colab_type": "code",
    "id": "ugDg3f8rSwC8",
    "outputId": "10878384-4ca0-47a0-dd47-d3ffd7e31685"
   },
   "outputs": [],
   "source": [
    "var = 'bed'\n",
    "sns.regplot(df[var], df['price'], fit_reg=False)"
   ]
  },
  {
   "cell_type": "markdown",
   "metadata": {
    "colab_type": "text",
    "id": "g8EQMq0DSwC-"
   },
   "source": [
    "We observe a bit of a positive correlation between price and number of bedrooms"
   ]
  },
  {
   "cell_type": "markdown",
   "metadata": {
    "colab_type": "text",
    "id": "cNnNEA2zSwC_"
   },
   "source": [
    "### Plot `price` vs. `bath`"
   ]
  },
  {
   "cell_type": "code",
   "execution_count": null,
   "metadata": {
    "colab": {
     "autoexec": {
      "startup": false,
      "wait_interval": 0
     }
    },
    "colab_type": "code",
    "id": "urVjkIrnSwC_",
    "outputId": "387e3549-3f9e-4969-8359-39b3fc6a8169"
   },
   "outputs": [],
   "source": [
    "var = 'bath'\n",
    "sns.regplot(df[var], df['price'], fit_reg=False)"
   ]
  },
  {
   "cell_type": "markdown",
   "metadata": {
    "colab_type": "text",
    "id": "8-Naw0AQSwDB"
   },
   "source": [
    "Positive correlation between number of baths and price"
   ]
  },
  {
   "cell_type": "markdown",
   "metadata": {
    "colab_type": "text",
    "id": "i0CNLq2OSwDC"
   },
   "source": [
    "## Generate a correlation matrix"
   ]
  },
  {
   "cell_type": "markdown",
   "metadata": {
    "colab_type": "text",
    "id": "WnCkhxG7SwDC"
   },
   "source": [
    "A correlation matrix will graphically show us which variables are most correlated to our target variable `price`.  \n",
    "A positive correlation (w.r.t. price) means as the variable increases, the price increases"
   ]
  },
  {
   "cell_type": "code",
   "execution_count": null,
   "metadata": {
    "colab": {
     "autoexec": {
      "startup": false,
      "wait_interval": 0
     }
    },
    "colab_type": "code",
    "id": "5hwZdHyBSwDF",
    "outputId": "ab6c4e01-0516-45fd-d7cb-4823d1b0b176"
   },
   "outputs": [],
   "source": [
    "corrmat = df[['price', 'bed', 'bath', 'sqft']].corr()\n",
    "sns.heatmap(corrmat, vmax=1, square=True);"
   ]
  },
  {
   "cell_type": "markdown",
   "metadata": {
    "colab_type": "text",
    "id": "-YFXRyXDSwDH"
   },
   "source": [
    "Observe the `price` across a row or column to get an idea which variables are most likely to correlate to price."
   ]
  },
  {
   "cell_type": "markdown",
   "metadata": {
    "colab_type": "text",
    "id": "2_7S0IVvSwDH"
   },
   "source": [
    "## Categorical Variables.  \n",
    "So far we have only dealt with numeric variables however there are several non-numerical (**Categorical**) variables to be investigated as well:  \n",
    "  \n",
    "Categorical variables are ones which provide information but are not quantified numerically. For instance, the `postal_code` variable gives us information about which neighbourhood the house is located. We found from our map plot that this data may be useful for predicting `price`.  \n",
    "  \n",
    "In order to use these categorical variables in our model, we encode them into a numerical representation called a [Dummy Variable]. We cover Dummy Variables in a later notebook.\n",
    "[Dummy Variable]: https://en.wikipedia.org/wiki/Dummy_variable_(statistics)"
   ]
  },
  {
   "cell_type": "code",
   "execution_count": null,
   "metadata": {
    "colab": {
     "autoexec": {
      "startup": false,
      "wait_interval": 0
     }
    },
    "colab_type": "code",
    "id": "r1_33XtBSwDI",
    "outputId": "51ac579b-2412-4f63-eb26-8fb03f7236be"
   },
   "outputs": [],
   "source": [
    "print(df.columns)"
   ]
  },
  {
   "cell_type": "markdown",
   "metadata": {
    "colab_type": "text",
    "id": "V3UiQkl1SwDK"
   },
   "source": [
    "Let's choose `property_type`, and `postal_code` to investigate.  \n",
    "We can use the `unique()` function on the categorical columns to see the different categories."
   ]
  },
  {
   "cell_type": "code",
   "execution_count": null,
   "metadata": {
    "colab": {
     "autoexec": {
      "startup": false,
      "wait_interval": 0
     }
    },
    "colab_type": "code",
    "id": "ixr9ugBtSwDL",
    "outputId": "5071045a-9a3c-4478-ff60-c40dee8d6c22"
   },
   "outputs": [],
   "source": [
    "print(df['postal_code'].value_counts())\n",
    "print(df['property_type'].value_counts())"
   ]
  },
  {
   "cell_type": "markdown",
   "metadata": {
    "colab_type": "text",
    "id": "tBZrxtwHSwDO"
   },
   "source": [
    "There are some variables with only a single value, let's get rid of that data."
   ]
  },
  {
   "cell_type": "code",
   "execution_count": null,
   "metadata": {
    "colab": {
     "autoexec": {
      "startup": false,
      "wait_interval": 0
     }
    },
    "colab_type": "code",
    "id": "n9J1-TchSwDO",
    "outputId": "274afa4f-0df6-4e0d-e631-ef6184c2e36e"
   },
   "outputs": [],
   "source": [
    "postal_codes = [\n",
    "'94530',\n",
    "'94014',\n",
    "'94608',\n",
    "'94607',\n",
    "'94005',\n",
    "'94706',\n",
    "'94501'\n",
    "]\n",
    "for postal_code in postal_codes:\n",
    "    df = df[df.postal_code != int(postal_code)]\n",
    "property_types = ['townhouse', 'foreclosure']\n",
    "for property_type in property_types:\n",
    "    df = df[df.property_type != property_type]\n",
    "print(df['postal_code'].value_counts())\n",
    "print(df['property_type'].value_counts())"
   ]
  },
  {
   "cell_type": "markdown",
   "metadata": {
    "colab_type": "text",
    "id": "dt42s-UySwDR"
   },
   "source": [
    "Visualize these categories as box plots.  \n",
    "We use the `pandas.melt()` function to flatten our variables into a single column so we can plot.  \n",
    "The result of using `melt()` is most easily understood by displaying the result."
   ]
  },
  {
   "cell_type": "code",
   "execution_count": null,
   "metadata": {
    "colab": {
     "autoexec": {
      "startup": false,
      "wait_interval": 0
     }
    },
    "colab_type": "code",
    "id": "g-RU-sZhSwDS",
    "outputId": "3b364154-5705-4962-ea7d-bc748f862da2"
   },
   "outputs": [],
   "source": [
    "vars_to_analyze = ['property_type', 'postal_code']\n",
    "df_melt = pd.melt(df, id_vars=['price'], value_vars=vars_to_analyze)\n",
    "for var in vars_to_analyze:\n",
    "    df_var = df_melt[df_melt['variable'] == var]\n",
    "    sns.boxplot(x=df_var['value'], y=df_var['price'])\n",
    "    x=plt.xticks(rotation=45)\n",
    "    plt.title(var)\n",
    "    plt.show()"
   ]
  },
  {
   "cell_type": "markdown",
   "metadata": {
    "colab_type": "text",
    "id": "LpXiYui9SwDa"
   },
   "source": [
    "# Save our DataFrame to .csv"
   ]
  },
  {
   "cell_type": "code",
   "execution_count": null,
   "metadata": {
    "colab": {
     "autoexec": {
      "startup": false,
      "wait_interval": 0
     }
    },
    "colab_type": "code",
    "id": "BFcqNFxXSwDa"
   },
   "outputs": [],
   "source": [
    "df.to_csv(os.path.join(data_dir,'data.csv'), index=False)"
   ]
  },
  {
   "cell_type": "markdown",
   "metadata": {
    "colab_type": "text",
    "id": "h_Xu0BacSwDd"
   },
   "source": [
    "## Hopefully this EDA has improved our intuition about our dataset.  \n",
    "## In the next notebook, we cover data cleaning!"
   ]
  }
 ],
 "metadata": {
  "colab": {
   "default_view": {},
   "name": "1 - Exploratory Data Analysis.ipynb",
   "provenance": [],
   "version": "0.3.2",
   "views": {}
  },
  "kernelspec": {
   "display_name": "Python 3",
   "language": "python",
   "name": "python3"
  },
  "language_info": {
   "codemirror_mode": {
    "name": "ipython",
    "version": 3
   },
   "file_extension": ".py",
   "mimetype": "text/x-python",
   "name": "python",
   "nbconvert_exporter": "python",
   "pygments_lexer": "ipython3",
   "version": "3.6.5"
  }
 },
 "nbformat": 4,
 "nbformat_minor": 1
}
