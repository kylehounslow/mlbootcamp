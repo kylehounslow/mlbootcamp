{
 "cells": [
  {
   "cell_type": "markdown",
   "metadata": {},
   "source": [
    "# Part 4 - Simple Linear Regression"
   ]
  },
  {
   "cell_type": "markdown",
   "metadata": {},
   "source": [
    "Finally!\n",
    "Let's get started with a basic Machine Learning algorithm: **Simple Linear Regression**.  \n",
    "Think of this as the `\"Hello World!\"` of ML!  \n",
    "Everyone remembers the equation of a line:  \n",
    "  \n",
    "$$\n",
    "y = mx + b\n",
    "$$ \n",
    "  \n",
    "Given an unknown value of `x`, we can infer `y` by multiplying by slope `m` and adding y-intercept `b`.  \n",
    "Linear Regression uses the same basic concept, however `x` can be multidimensional, denoted as a matrix `X`.  \n",
    "This notebook will deal with only single dimensional `x`."
   ]
  },
  {
   "cell_type": "code",
   "execution_count": 1,
   "metadata": {},
   "outputs": [],
   "source": [
    "import time\n",
    "import pandas as pd\n",
    "import matplotlib.pyplot as plt\n",
    "import seaborn as sns\n",
    "import numpy as np\n",
    "from sklearn.linear_model import LinearRegression\n",
    "from sklearn.metrics import mean_squared_error\n",
    "from sklearn.model_selection import train_test_split\n",
    "%matplotlib inline"
   ]
  },
  {
   "cell_type": "markdown",
   "metadata": {},
   "source": [
    "## Let's load the data and remind ourselves of the contents"
   ]
  },
  {
   "cell_type": "code",
   "execution_count": 3,
   "metadata": {},
   "outputs": [
    {
     "data": {
      "text/html": [
       "<div>\n",
       "<style scoped>\n",
       "    .dataframe tbody tr th:only-of-type {\n",
       "        vertical-align: middle;\n",
       "    }\n",
       "\n",
       "    .dataframe tbody tr th {\n",
       "        vertical-align: top;\n",
       "    }\n",
       "\n",
       "    .dataframe thead th {\n",
       "        text-align: right;\n",
       "    }\n",
       "</style>\n",
       "<table border=\"1\" class=\"dataframe\">\n",
       "  <thead>\n",
       "    <tr style=\"text-align: right;\">\n",
       "      <th></th>\n",
       "      <th>bath</th>\n",
       "      <th>bed</th>\n",
       "      <th>sqft</th>\n",
       "      <th>price</th>\n",
       "      <th>property_type_apartment</th>\n",
       "      <th>property_type_auction</th>\n",
       "      <th>property_type_coming</th>\n",
       "      <th>property_type_condo</th>\n",
       "      <th>property_type_coop</th>\n",
       "      <th>property_type_house</th>\n",
       "      <th>...</th>\n",
       "      <th>postal_code_94121</th>\n",
       "      <th>postal_code_94122</th>\n",
       "      <th>postal_code_94123</th>\n",
       "      <th>postal_code_94124</th>\n",
       "      <th>postal_code_94127</th>\n",
       "      <th>postal_code_94131</th>\n",
       "      <th>postal_code_94132</th>\n",
       "      <th>postal_code_94133</th>\n",
       "      <th>postal_code_94134</th>\n",
       "      <th>postal_code_94158</th>\n",
       "    </tr>\n",
       "  </thead>\n",
       "  <tbody>\n",
       "    <tr>\n",
       "      <th>0</th>\n",
       "      <td>1.0</td>\n",
       "      <td>1.0</td>\n",
       "      <td>830.0</td>\n",
       "      <td>849000.0</td>\n",
       "      <td>0</td>\n",
       "      <td>0</td>\n",
       "      <td>0</td>\n",
       "      <td>1</td>\n",
       "      <td>0</td>\n",
       "      <td>0</td>\n",
       "      <td>...</td>\n",
       "      <td>0</td>\n",
       "      <td>0</td>\n",
       "      <td>0</td>\n",
       "      <td>0</td>\n",
       "      <td>0</td>\n",
       "      <td>0</td>\n",
       "      <td>0</td>\n",
       "      <td>0</td>\n",
       "      <td>0</td>\n",
       "      <td>0</td>\n",
       "    </tr>\n",
       "    <tr>\n",
       "      <th>1</th>\n",
       "      <td>2.0</td>\n",
       "      <td>2.0</td>\n",
       "      <td>1500.0</td>\n",
       "      <td>1650000.0</td>\n",
       "      <td>0</td>\n",
       "      <td>0</td>\n",
       "      <td>0</td>\n",
       "      <td>1</td>\n",
       "      <td>0</td>\n",
       "      <td>0</td>\n",
       "      <td>...</td>\n",
       "      <td>0</td>\n",
       "      <td>0</td>\n",
       "      <td>0</td>\n",
       "      <td>0</td>\n",
       "      <td>0</td>\n",
       "      <td>0</td>\n",
       "      <td>0</td>\n",
       "      <td>0</td>\n",
       "      <td>0</td>\n",
       "      <td>0</td>\n",
       "    </tr>\n",
       "    <tr>\n",
       "      <th>2</th>\n",
       "      <td>1.0</td>\n",
       "      <td>1.0</td>\n",
       "      <td>1189.0</td>\n",
       "      <td>1195000.0</td>\n",
       "      <td>0</td>\n",
       "      <td>0</td>\n",
       "      <td>0</td>\n",
       "      <td>1</td>\n",
       "      <td>0</td>\n",
       "      <td>0</td>\n",
       "      <td>...</td>\n",
       "      <td>0</td>\n",
       "      <td>0</td>\n",
       "      <td>0</td>\n",
       "      <td>0</td>\n",
       "      <td>0</td>\n",
       "      <td>0</td>\n",
       "      <td>0</td>\n",
       "      <td>0</td>\n",
       "      <td>0</td>\n",
       "      <td>0</td>\n",
       "    </tr>\n",
       "    <tr>\n",
       "      <th>3</th>\n",
       "      <td>2.0</td>\n",
       "      <td>3.0</td>\n",
       "      <td>1520.0</td>\n",
       "      <td>1995000.0</td>\n",
       "      <td>0</td>\n",
       "      <td>0</td>\n",
       "      <td>0</td>\n",
       "      <td>1</td>\n",
       "      <td>0</td>\n",
       "      <td>0</td>\n",
       "      <td>...</td>\n",
       "      <td>0</td>\n",
       "      <td>0</td>\n",
       "      <td>0</td>\n",
       "      <td>0</td>\n",
       "      <td>0</td>\n",
       "      <td>0</td>\n",
       "      <td>0</td>\n",
       "      <td>0</td>\n",
       "      <td>0</td>\n",
       "      <td>0</td>\n",
       "    </tr>\n",
       "    <tr>\n",
       "      <th>4</th>\n",
       "      <td>1.0</td>\n",
       "      <td>1.0</td>\n",
       "      <td>566.0</td>\n",
       "      <td>625000.0</td>\n",
       "      <td>0</td>\n",
       "      <td>0</td>\n",
       "      <td>0</td>\n",
       "      <td>1</td>\n",
       "      <td>0</td>\n",
       "      <td>0</td>\n",
       "      <td>...</td>\n",
       "      <td>0</td>\n",
       "      <td>0</td>\n",
       "      <td>0</td>\n",
       "      <td>0</td>\n",
       "      <td>0</td>\n",
       "      <td>0</td>\n",
       "      <td>0</td>\n",
       "      <td>0</td>\n",
       "      <td>0</td>\n",
       "      <td>0</td>\n",
       "    </tr>\n",
       "  </tbody>\n",
       "</table>\n",
       "<p>5 rows × 37 columns</p>\n",
       "</div>"
      ],
      "text/plain": [
       "   bath  bed    sqft      price  property_type_apartment  \\\n",
       "0   1.0  1.0   830.0   849000.0                        0   \n",
       "1   2.0  2.0  1500.0  1650000.0                        0   \n",
       "2   1.0  1.0  1189.0  1195000.0                        0   \n",
       "3   2.0  3.0  1520.0  1995000.0                        0   \n",
       "4   1.0  1.0   566.0   625000.0                        0   \n",
       "\n",
       "   property_type_auction  property_type_coming  property_type_condo  \\\n",
       "0                      0                     0                    1   \n",
       "1                      0                     0                    1   \n",
       "2                      0                     0                    1   \n",
       "3                      0                     0                    1   \n",
       "4                      0                     0                    1   \n",
       "\n",
       "   property_type_coop  property_type_house        ...          \\\n",
       "0                   0                    0        ...           \n",
       "1                   0                    0        ...           \n",
       "2                   0                    0        ...           \n",
       "3                   0                    0        ...           \n",
       "4                   0                    0        ...           \n",
       "\n",
       "   postal_code_94121  postal_code_94122  postal_code_94123  postal_code_94124  \\\n",
       "0                  0                  0                  0                  0   \n",
       "1                  0                  0                  0                  0   \n",
       "2                  0                  0                  0                  0   \n",
       "3                  0                  0                  0                  0   \n",
       "4                  0                  0                  0                  0   \n",
       "\n",
       "   postal_code_94127  postal_code_94131  postal_code_94132  postal_code_94133  \\\n",
       "0                  0                  0                  0                  0   \n",
       "1                  0                  0                  0                  0   \n",
       "2                  0                  0                  0                  0   \n",
       "3                  0                  0                  0                  0   \n",
       "4                  0                  0                  0                  0   \n",
       "\n",
       "   postal_code_94134  postal_code_94158  \n",
       "0                  0                  0  \n",
       "1                  0                  0  \n",
       "2                  0                  0  \n",
       "3                  0                  0  \n",
       "4                  0                  0  \n",
       "\n",
       "[5 rows x 37 columns]"
      ]
     },
     "execution_count": 3,
     "metadata": {},
     "output_type": "execute_result"
    }
   ],
   "source": [
    "df = pd.read_csv('./data/sf/data_clean_engineered.csv')\n",
    "df.head()"
   ]
  },
  {
   "cell_type": "markdown",
   "metadata": {},
   "source": [
    "For this basic linear regression example we will choose only one variable as our independent variable `x`.  \n",
    "In our EDA we discovered that `sqft` was highly correlated with `price` and they also shared a linear relationship.  \n",
    "This makes `sqft` a great candidate for inferring `price` using linear regression.  "
   ]
  },
  {
   "cell_type": "markdown",
   "metadata": {},
   "source": [
    "Recall our line equation: \n",
    "$$\n",
    "y = mx + b\n",
    "$$ \n",
    "\n",
    "We assign the 'price' column of our DataFrame as the dependent variable `y` and the 'sqft' column as the independent variable `x`"
   ]
  },
  {
   "cell_type": "code",
   "execution_count": 4,
   "metadata": {},
   "outputs": [],
   "source": [
    "x = df['sqft']\n",
    "y = df['price']"
   ]
  },
  {
   "cell_type": "markdown",
   "metadata": {},
   "source": [
    "Note:  \n",
    "Indexing into a single column of a `pandas.DataFrame` will return a `pandas.Series` object while indexing multiple columns will return another `pandas.DataFrame`. Additionally, the `pandas.Series` object is a wrapper around the popular `numpy.ndarray` datatype. We can get the `numpy.ndarray` from the `Series` using `Series.values`.  \n",
    "See below:"
   ]
  },
  {
   "cell_type": "code",
   "execution_count": 20,
   "metadata": {},
   "outputs": [
    {
     "name": "stdout",
     "output_type": "stream",
     "text": [
      "df type = <class 'pandas.core.frame.DataFrame'>\n",
      "x type = <class 'pandas.core.series.Series'>\n",
      "y type = <class 'pandas.core.series.Series'>\n",
      "multi_indexed type = <class 'pandas.core.frame.DataFrame'>\n",
      "x.values type = <class 'numpy.ndarray'>\n"
     ]
    }
   ],
   "source": [
    "print(\"df type = {}\".format(type(df)))\n",
    "print(\"x type = {}\".format(type(x)))\n",
    "print(\"y type = {}\".format(type(y)))\n",
    "multi_indexed = df[['sqft', 'price']]\n",
    "print(\"multi_indexed type = {}\".format(type(multi_indexed)))\n",
    "ndarray = x.values\n",
    "print(\"x.values type = {}\".format(type(ndarray)))"
   ]
  },
  {
   "cell_type": "markdown",
   "metadata": {},
   "source": [
    "## Plot `price` vs `sqft`"
   ]
  },
  {
   "cell_type": "code",
   "execution_count": 21,
   "metadata": {},
   "outputs": [
    {
     "data": {
      "text/plain": [
       "<matplotlib.axes._subplots.AxesSubplot at 0x7f410eb2ae80>"
      ]
     },
     "execution_count": 21,
     "metadata": {},
     "output_type": "execute_result"
    },
    {
     "data": {
      "image/png": "[encoded data removed]",
      "text/plain": [
       "<Figure size 864x576 with 1 Axes>"
      ]
     },
     "metadata": {},
     "output_type": "display_data"
    }
   ],
   "source": [
    "sns.set(rc={'figure.figsize':(12, 8)})# globally set our seaborn plot size to 12 by 8 inches\n",
    "sns.regplot(x, y, fit_reg=False)"
   ]
  },
  {
   "cell_type": "markdown",
   "metadata": {},
   "source": [
    "We observe a linear relationship between `x` and `y` and we could probably visually estimate a best fitting line using our eyes however let's determine this best fitting line algorithmically using [Ordinary Least Squares](https://en.wikipedia.org/wiki/Ordinary_least_squares).  "
   ]
  },
  {
   "cell_type": "markdown",
   "metadata": {},
   "source": [
    "Ordinary Least Squares (OLS) is a great introduction to our first **Optimization** problem in which we are **minimizing** the sum of square differences between the observed and predicted values in order to find the best fit line to the data.  \n",
    "  \n",
    "Basically: \n",
    "1. start with an initial *guess* at the slope `m` and y-intercept `b` of the line equation\n",
    "2. calculate the sum of square differences between the predicted value of `y` and the actual value of `y`.\n",
    "3. adjust parameters (slope `m` and y-intercept `b`) such that error gets *smaller*.\n",
    "4. repeate steps 1-3 until error cannot decrease any further.\n",
    "  "
   ]
  },
  {
   "cell_type": "markdown",
   "metadata": {},
   "source": [
    "### See [here] for a quick, interactive tutorial on OLS.\n",
    "[here]: http://setosa.io/ev/ordinary-least-squares-regression/"
   ]
  },
  {
   "cell_type": "markdown",
   "metadata": {},
   "source": [
    "Rather than write our linear regressor from scratch, let's use the [LinearRegression] module from [scikit-learn], a popular machine learning library.  \n",
    "[LinearRegression]: http://scikit-learn.org/stable/modules/generated/sklearn.linear_model.LinearRegression.html\n",
    "[Scikit-Learn]: http://scikit-learn.org/stable/"
   ]
  },
  {
   "cell_type": "code",
   "execution_count": 22,
   "metadata": {},
   "outputs": [],
   "source": [
    "regressor = LinearRegression(normalize=True)"
   ]
  },
  {
   "cell_type": "markdown",
   "metadata": {},
   "source": [
    "We can now simply call `fit()` on the `regressor` object to run OLS to iteratively fit to the training data.  \n",
    "  \n",
    "Note:  \n",
    "`fit()` expects `x` to be a `numpy.ndarray` of shape `(num_samples, num_features)` and `y` to be of shape `(num_samples, 1)`.  \n",
    "Recall we are only dealing with single variable linear regression in this notebook so our number of features is 1 however in multiple linear regression the number of features can be very large. "
   ]
  },
  {
   "cell_type": "markdown",
   "metadata": {},
   "source": [
    "Let's try first with our `x` and `y` DataFrames so we can get acquianted with the error message in case we encounter something similar in the future"
   ]
  },
  {
   "cell_type": "code",
   "execution_count": 23,
   "metadata": {
    "scrolled": true
   },
   "outputs": [
    {
     "name": "stdout",
     "output_type": "stream",
     "text": [
      "x.shape = (638,)\n",
      "y.shape = (638,)\n"
     ]
    },
    {
     "ename": "ValueError",
     "evalue": "Expected 2D array, got 1D array instead:\narray=[ 830. 1500. 1189. 1520.  566.  914. 1250. 1325.  750. 3168.  746. 1166.\n 1160. 1336.  735. 2308. 1839. 1510. 1026. 1215. 1782. 1128. 3200.  997.\n  918. 1560. 1181. 1823. 1747. 2500. 3200. 1093.  744. 1170. 1050. 2700.\n 1656. 1553.  834. 1049. 1430. 1496. 1523. 3575. 1315. 1475. 1805. 1695.\n  432. 1110.  653. 7205. 8280. 1947. 1708. 4080. 2141. 1206. 2189. 3172.\n 3172. 2397. 2534. 4418. 2137. 3157. 3157. 2500. 4900. 3452. 4614. 3221.\n 2628. 2520. 3934. 2720. 3250. 1430. 2115. 1033.  430. 1827.  825. 2900.\n 4400.  825. 1308.  989. 1500. 1131. 1630.  783. 2937.  673.  900. 5203.\n 1912. 1198. 1099.  630. 2929. 3256. 1980. 2050. 2478. 6762. 1686. 1439.\n 1024.  929. 6383. 4693. 1100.  500. 2677.  845. 1021. 1886.  423.  937.\n 6115. 1213.  867.  629.  665. 4734.  500.  419. 1004.  844.  648.  500.\n  603. 1004. 1542. 1826.  607.  828. 1073. 2898. 1175. 1373.  932. 1550.\n 6825. 6825. 2720. 4470. 3865. 1225. 1314.  558. 3350.  592.  680.  944.\n 8025. 4730.  900. 5003. 4210. 5003.  968. 1650. 1244. 1218. 2001.  946.\n  842. 1915.  948. 2133. 2386. 1948. 1212. 2030. 1890. 1500. 4085. 1680.\n 1400. 1250. 2433. 2444. 4568. 2550. 1400. 5100. 2658.  404. 1100. 3240.\n  669. 1193. 1681.  937. 1180. 4626. 1616. 2429.  672.  678.  485.  391.\n  385. 3350. 1445.  430.  890. 1976. 1610. 1125.  631. 3000.  625. 2462.\n 2320. 1330. 1600. 1838. 4696. 3735. 1080. 3318. 1245.  900. 2880. 3994.\n 2178. 2695. 1422. 2000. 2560. 4280. 1442. 4840. 1926. 2914. 1430. 2330.\n  892.  568. 1900.  925. 2800. 4210. 2168.  785. 1600.  785. 1280. 1384.\n 1340. 1868. 1042. 1870. 2988. 8040. 2400. 2260. 3255. 2790. 1250. 2760.\n 1751. 3687. 2765. 1834.  700. 1793. 1050. 1600. 1115. 6187. 1790. 1510.\n  840. 1300. 1360.  926. 4809. 1080.  800.  900. 1590. 1024. 1342. 1318.\n 1155. 1212. 1156. 1767. 1767. 1250. 1590. 1185. 1156. 1140. 2500. 2500.\n 7501. 1414. 2500.  670. 1115. 1910. 1223. 1187. 1605.  840.  854. 1882.\n  474. 1189.  650. 1479. 1216. 1780.  795.  670.  710. 1203. 8240. 1395.\n  972. 2685. 1181. 1161. 1187.  778.  646.  976. 1204. 2151. 1812.  903.\n 1145. 1735. 1694. 1612. 1058. 3960. 2253.  906.  823. 3755. 2903. 1256.\n 1526. 2495. 2470.  743.  884. 1092.  875. 1407.  807.  550. 1525. 1007.\n 1500. 1063. 1675. 1850. 1958. 1170.  814.  738.  832.  536.  769. 2027.\n  656.  775. 1579. 4400. 2360. 2045. 1505. 2433. 1640. 1560. 1690. 1780.\n 2221. 2357.  900. 1022. 1912. 1779. 1200.  862.  942. 1471. 1421. 1918.\n 1300. 1308. 1282. 1525. 1500. 2475.  890. 2700. 1852.  806. 1810. 1788.\n 1299.  624. 5203.  690. 2300. 1308.  626. 1132.  422.  742. 1838. 1009.\n 1284. 6075. 1170. 4540. 1820. 2850. 1270. 2330. 1785. 1024. 2000. 2000.\n  764.  830.  664.  795. 1900. 1117.  965. 1823. 2650. 2345. 5400. 2917.\n  800.  594.  881. 4110. 1025. 2500. 2416.  900.  901. 1075. 1319. 2852.\n  568. 3915. 2100. 4058. 2800. 2490. 2900. 1970. 2342. 1299.  600. 1593.\n 3282. 2790. 2337. 2760. 1751. 1870. 2000.  675. 5675. 1003. 3525. 1211.\n 1812. 1018. 2700. 1419. 2710. 1189. 2126.  943. 2706. 1360.  495. 1582.\n 1058.  782. 1184.  960. 1100. 1547.  618.  707.  869.  903.  866. 1755.\n 1541. 1450. 2663. 1688. 2610.  960. 1350. 1690. 1382. 2425. 1892. 2300.\n  918.  653. 1708. 4080.  495.  920. 1542. 2345. 1250. 1400. 2658.  750.\n  901.  976. 1676.  738.  536. 3000.  965. 1423. 1531. 1694. 1895. 1240.\n 1580. 1900. 1375. 1850.  956. 1113. 2200. 1471. 1300. 1810. 2360. 1290.\n 1626. 1820. 2300. 2000. 1099.  837. 2528. 1067. 1067.  740. 7071.  998.\n  650.  540. 1330. 6584. 1024. 2196. 1587. 1565.  937. 1220. 1692. 7790.\n 5200. 3865. 1398. 1170. 1730. 2100. 1325. 2393. 1625. 1200. 1440. 1300.\n 2189. 3280. 1467.  837.  948.  594.  711. 3200. 1024. 2320. 1251. 1108.\n 1785.  976. 1199. 1550. 1600. 3504. 2300. 1000. 1780. 1763. 1470. 5390.\n 1668. 1450.  613.  840. 1533. 1032.  850. 6585. 2030. 1317. 1310. 1780.\n 1583. 1602. 2328. 1256. 1625.  850. 1284. 1001. 1243.  670. 1600. 1560.\n 1690. 1780.].\nReshape your data either using array.reshape(-1, 1) if your data has a single feature or array.reshape(1, -1) if it contains a single sample.",
     "output_type": "error",
     "traceback": [
      "\u001b[0;31m---------------------------------------------------------------------------\u001b[0m",
      "\u001b[0;31mValueError\u001b[0m                                Traceback (most recent call last)",
      "\u001b[0;32m<ipython-input-23-c37a6190a119>\u001b[0m in \u001b[0;36m<module>\u001b[0;34m()\u001b[0m\n\u001b[1;32m      1\u001b[0m \u001b[0mprint\u001b[0m\u001b[0;34m(\u001b[0m\u001b[0;34m\"x.shape = {}\"\u001b[0m\u001b[0;34m.\u001b[0m\u001b[0mformat\u001b[0m\u001b[0;34m(\u001b[0m\u001b[0mx\u001b[0m\u001b[0;34m.\u001b[0m\u001b[0mshape\u001b[0m\u001b[0;34m)\u001b[0m\u001b[0;34m)\u001b[0m\u001b[0;34m\u001b[0m\u001b[0m\n\u001b[1;32m      2\u001b[0m \u001b[0mprint\u001b[0m\u001b[0;34m(\u001b[0m\u001b[0;34m\"y.shape = {}\"\u001b[0m\u001b[0;34m.\u001b[0m\u001b[0mformat\u001b[0m\u001b[0;34m(\u001b[0m\u001b[0my\u001b[0m\u001b[0;34m.\u001b[0m\u001b[0mshape\u001b[0m\u001b[0;34m)\u001b[0m\u001b[0;34m)\u001b[0m\u001b[0;34m\u001b[0m\u001b[0m\n\u001b[0;32m----> 3\u001b[0;31m \u001b[0mmodel\u001b[0m \u001b[0;34m=\u001b[0m \u001b[0mregressor\u001b[0m\u001b[0;34m.\u001b[0m\u001b[0mfit\u001b[0m\u001b[0;34m(\u001b[0m\u001b[0mx\u001b[0m\u001b[0;34m,\u001b[0m\u001b[0my\u001b[0m\u001b[0;34m)\u001b[0m\u001b[0;34m\u001b[0m\u001b[0m\n\u001b[0m",
      "\u001b[0;32m/usr/local/lib/python3.6/dist-packages/sklearn/linear_model/base.py\u001b[0m in \u001b[0;36mfit\u001b[0;34m(self, X, y, sample_weight)\u001b[0m\n\u001b[1;32m    480\u001b[0m         \u001b[0mn_jobs_\u001b[0m \u001b[0;34m=\u001b[0m \u001b[0mself\u001b[0m\u001b[0;34m.\u001b[0m\u001b[0mn_jobs\u001b[0m\u001b[0;34m\u001b[0m\u001b[0m\n\u001b[1;32m    481\u001b[0m         X, y = check_X_y(X, y, accept_sparse=['csr', 'csc', 'coo'],\n\u001b[0;32m--> 482\u001b[0;31m                          y_numeric=True, multi_output=True)\n\u001b[0m\u001b[1;32m    483\u001b[0m \u001b[0;34m\u001b[0m\u001b[0m\n\u001b[1;32m    484\u001b[0m         \u001b[0;32mif\u001b[0m \u001b[0msample_weight\u001b[0m \u001b[0;32mis\u001b[0m \u001b[0;32mnot\u001b[0m \u001b[0;32mNone\u001b[0m \u001b[0;32mand\u001b[0m \u001b[0mnp\u001b[0m\u001b[0;34m.\u001b[0m\u001b[0matleast_1d\u001b[0m\u001b[0;34m(\u001b[0m\u001b[0msample_weight\u001b[0m\u001b[0;34m)\u001b[0m\u001b[0;34m.\u001b[0m\u001b[0mndim\u001b[0m \u001b[0;34m>\u001b[0m \u001b[0;36m1\u001b[0m\u001b[0;34m:\u001b[0m\u001b[0;34m\u001b[0m\u001b[0m\n",
      "\u001b[0;32m/usr/local/lib/python3.6/dist-packages/sklearn/utils/validation.py\u001b[0m in \u001b[0;36mcheck_X_y\u001b[0;34m(X, y, accept_sparse, dtype, order, copy, force_all_finite, ensure_2d, allow_nd, multi_output, ensure_min_samples, ensure_min_features, y_numeric, warn_on_dtype, estimator)\u001b[0m\n\u001b[1;32m    571\u001b[0m     X = check_array(X, accept_sparse, dtype, order, copy, force_all_finite,\n\u001b[1;32m    572\u001b[0m                     \u001b[0mensure_2d\u001b[0m\u001b[0;34m,\u001b[0m \u001b[0mallow_nd\u001b[0m\u001b[0;34m,\u001b[0m \u001b[0mensure_min_samples\u001b[0m\u001b[0;34m,\u001b[0m\u001b[0;34m\u001b[0m\u001b[0m\n\u001b[0;32m--> 573\u001b[0;31m                     ensure_min_features, warn_on_dtype, estimator)\n\u001b[0m\u001b[1;32m    574\u001b[0m     \u001b[0;32mif\u001b[0m \u001b[0mmulti_output\u001b[0m\u001b[0;34m:\u001b[0m\u001b[0;34m\u001b[0m\u001b[0m\n\u001b[1;32m    575\u001b[0m         y = check_array(y, 'csr', force_all_finite=True, ensure_2d=False,\n",
      "\u001b[0;32m/usr/local/lib/python3.6/dist-packages/sklearn/utils/validation.py\u001b[0m in \u001b[0;36mcheck_array\u001b[0;34m(array, accept_sparse, dtype, order, copy, force_all_finite, ensure_2d, allow_nd, ensure_min_samples, ensure_min_features, warn_on_dtype, estimator)\u001b[0m\n\u001b[1;32m    439\u001b[0m                     \u001b[0;34m\"Reshape your data either using array.reshape(-1, 1) if \"\u001b[0m\u001b[0;34m\u001b[0m\u001b[0m\n\u001b[1;32m    440\u001b[0m                     \u001b[0;34m\"your data has a single feature or array.reshape(1, -1) \"\u001b[0m\u001b[0;34m\u001b[0m\u001b[0m\n\u001b[0;32m--> 441\u001b[0;31m                     \"if it contains a single sample.\".format(array))\n\u001b[0m\u001b[1;32m    442\u001b[0m             \u001b[0marray\u001b[0m \u001b[0;34m=\u001b[0m \u001b[0mnp\u001b[0m\u001b[0;34m.\u001b[0m\u001b[0matleast_2d\u001b[0m\u001b[0;34m(\u001b[0m\u001b[0marray\u001b[0m\u001b[0;34m)\u001b[0m\u001b[0;34m\u001b[0m\u001b[0m\n\u001b[1;32m    443\u001b[0m             \u001b[0;31m# To ensure that array flags are maintained\u001b[0m\u001b[0;34m\u001b[0m\u001b[0;34m\u001b[0m\u001b[0m\n",
      "\u001b[0;31mValueError\u001b[0m: Expected 2D array, got 1D array instead:\narray=[ 830. 1500. 1189. 1520.  566.  914. 1250. 1325.  750. 3168.  746. 1166.\n 1160. 1336.  735. 2308. 1839. 1510. 1026. 1215. 1782. 1128. 3200.  997.\n  918. 1560. 1181. 1823. 1747. 2500. 3200. 1093.  744. 1170. 1050. 2700.\n 1656. 1553.  834. 1049. 1430. 1496. 1523. 3575. 1315. 1475. 1805. 1695.\n  432. 1110.  653. 7205. 8280. 1947. 1708. 4080. 2141. 1206. 2189. 3172.\n 3172. 2397. 2534. 4418. 2137. 3157. 3157. 2500. 4900. 3452. 4614. 3221.\n 2628. 2520. 3934. 2720. 3250. 1430. 2115. 1033.  430. 1827.  825. 2900.\n 4400.  825. 1308.  989. 1500. 1131. 1630.  783. 2937.  673.  900. 5203.\n 1912. 1198. 1099.  630. 2929. 3256. 1980. 2050. 2478. 6762. 1686. 1439.\n 1024.  929. 6383. 4693. 1100.  500. 2677.  845. 1021. 1886.  423.  937.\n 6115. 1213.  867.  629.  665. 4734.  500.  419. 1004.  844.  648.  500.\n  603. 1004. 1542. 1826.  607.  828. 1073. 2898. 1175. 1373.  932. 1550.\n 6825. 6825. 2720. 4470. 3865. 1225. 1314.  558. 3350.  592.  680.  944.\n 8025. 4730.  900. 5003. 4210. 5003.  968. 1650. 1244. 1218. 2001.  946.\n  842. 1915.  948. 2133. 2386. 1948. 1212. 2030. 1890. 1500. 4085. 1680.\n 1400. 1250. 2433. 2444. 4568. 2550. 1400. 5100. 2658.  404. 1100. 3240.\n  669. 1193. 1681.  937. 1180. 4626. 1616. 2429.  672.  678.  485.  391.\n  385. 3350. 1445.  430.  890. 1976. 1610. 1125.  631. 3000.  625. 2462.\n 2320. 1330. 1600. 1838. 4696. 3735. 1080. 3318. 1245.  900. 2880. 3994.\n 2178. 2695. 1422. 2000. 2560. 4280. 1442. 4840. 1926. 2914. 1430. 2330.\n  892.  568. 1900.  925. 2800. 4210. 2168.  785. 1600.  785. 1280. 1384.\n 1340. 1868. 1042. 1870. 2988. 8040. 2400. 2260. 3255. 2790. 1250. 2760.\n 1751. 3687. 2765. 1834.  700. 1793. 1050. 1600. 1115. 6187. 1790. 1510.\n  840. 1300. 1360.  926. 4809. 1080.  800.  900. 1590. 1024. 1342. 1318.\n 1155. 1212. 1156. 1767. 1767. 1250. 1590. 1185. 1156. 1140. 2500. 2500.\n 7501. 1414. 2500.  670. 1115. 1910. 1223. 1187. 1605.  840.  854. 1882.\n  474. 1189.  650. 1479. 1216. 1780.  795.  670.  710. 1203. 8240. 1395.\n  972. 2685. 1181. 1161. 1187.  778.  646.  976. 1204. 2151. 1812.  903.\n 1145. 1735. 1694. 1612. 1058. 3960. 2253.  906.  823. 3755. 2903. 1256.\n 1526. 2495. 2470.  743.  884. 1092.  875. 1407.  807.  550. 1525. 1007.\n 1500. 1063. 1675. 1850. 1958. 1170.  814.  738.  832.  536.  769. 2027.\n  656.  775. 1579. 4400. 2360. 2045. 1505. 2433. 1640. 1560. 1690. 1780.\n 2221. 2357.  900. 1022. 1912. 1779. 1200.  862.  942. 1471. 1421. 1918.\n 1300. 1308. 1282. 1525. 1500. 2475.  890. 2700. 1852.  806. 1810. 1788.\n 1299.  624. 5203.  690. 2300. 1308.  626. 1132.  422.  742. 1838. 1009.\n 1284. 6075. 1170. 4540. 1820. 2850. 1270. 2330. 1785. 1024. 2000. 2000.\n  764.  830.  664.  795. 1900. 1117.  965. 1823. 2650. 2345. 5400. 2917.\n  800.  594.  881. 4110. 1025. 2500. 2416.  900.  901. 1075. 1319. 2852.\n  568. 3915. 2100. 4058. 2800. 2490. 2900. 1970. 2342. 1299.  600. 1593.\n 3282. 2790. 2337. 2760. 1751. 1870. 2000.  675. 5675. 1003. 3525. 1211.\n 1812. 1018. 2700. 1419. 2710. 1189. 2126.  943. 2706. 1360.  495. 1582.\n 1058.  782. 1184.  960. 1100. 1547.  618.  707.  869.  903.  866. 1755.\n 1541. 1450. 2663. 1688. 2610.  960. 1350. 1690. 1382. 2425. 1892. 2300.\n  918.  653. 1708. 4080.  495.  920. 1542. 2345. 1250. 1400. 2658.  750.\n  901.  976. 1676.  738.  536. 3000.  965. 1423. 1531. 1694. 1895. 1240.\n 1580. 1900. 1375. 1850.  956. 1113. 2200. 1471. 1300. 1810. 2360. 1290.\n 1626. 1820. 2300. 2000. 1099.  837. 2528. 1067. 1067.  740. 7071.  998.\n  650.  540. 1330. 6584. 1024. 2196. 1587. 1565.  937. 1220. 1692. 7790.\n 5200. 3865. 1398. 1170. 1730. 2100. 1325. 2393. 1625. 1200. 1440. 1300.\n 2189. 3280. 1467.  837.  948.  594.  711. 3200. 1024. 2320. 1251. 1108.\n 1785.  976. 1199. 1550. 1600. 3504. 2300. 1000. 1780. 1763. 1470. 5390.\n 1668. 1450.  613.  840. 1533. 1032.  850. 6585. 2030. 1317. 1310. 1780.\n 1583. 1602. 2328. 1256. 1625.  850. 1284. 1001. 1243.  670. 1600. 1560.\n 1690. 1780.].\nReshape your data either using array.reshape(-1, 1) if your data has a single feature or array.reshape(1, -1) if it contains a single sample."
     ]
    }
   ],
   "source": [
    "print(\"x.shape = {}\".format(x.shape))\n",
    "print(\"y.shape = {}\".format(y.shape))\n",
    "model = regressor.fit(x,y)"
   ]
  },
  {
   "cell_type": "markdown",
   "metadata": {},
   "source": [
    "We get:  \n",
    "`ValueError: Expected 2D array, got 1D array instead`  \n",
    "Let's reshape our data to 2D `numpy.ndarray`"
   ]
  },
  {
   "cell_type": "code",
   "execution_count": 24,
   "metadata": {},
   "outputs": [],
   "source": [
    "num_samples = len(x)\n",
    "assert len(x) == len(y) # be sure we have the same number of training samples as target samples\n",
    "num_features = 1 # only a single feature, sqft\n",
    "x_np = x.values.reshape((num_samples, num_features))\n",
    "y_np = y.values.reshape((num_samples, 1))"
   ]
  },
  {
   "cell_type": "code",
   "execution_count": 26,
   "metadata": {},
   "outputs": [
    {
     "name": "stdout",
     "output_type": "stream",
     "text": [
      "x_np.shape = (638, 1)\n",
      "y_np.shape = (638, 1)\n"
     ]
    }
   ],
   "source": [
    "print(\"x_np.shape = {}\".format(x_np.shape))\n",
    "print(\"y_np.shape = {}\".format(y_np.shape))\n",
    "model = regressor.fit(x_np, y_np)"
   ]
  },
  {
   "cell_type": "markdown",
   "metadata": {},
   "source": [
    "The regressor has been fit to our training data and saved into a variable named `model`.  \n",
    "Now we can call `predict()` to predict `price` for a given `sqft`. For illustrative purposes we will predict on the same data we trained on"
   ]
  },
  {
   "cell_type": "markdown",
   "metadata": {},
   "source": [
    "We can evaluate the performance of a given model using Scikit-Learn `mean_square_error` and `LinearRegression.score()` function"
   ]
  },
  {
   "cell_type": "code",
   "execution_count": 28,
   "metadata": {},
   "outputs": [
    {
     "name": "stdout",
     "output_type": "stream",
     "text": [
      "Mean Squared Error: 611637046902.5\n",
      "Accuracy: 58.91940577146959%\n"
     ]
    }
   ],
   "source": [
    "def evaluate_model(model, X, y):\n",
    "    y_pred = model.predict(X) # predict y values from input X\n",
    "    mse = mean_squared_error(y_true=y, y_pred=y_pred)\n",
    "    print(\"Mean Squared Error: {}\".format(mse))\n",
    "    print(\"Accuracy: {}%\".format(model.score(X, y)*100.0))\n",
    "evaluate_model(model, x_np, y_np)"
   ]
  },
  {
   "cell_type": "markdown",
   "metadata": {},
   "source": [
    "As our model improves we expect the MSE to decrease and Accuracy to increase."
   ]
  },
  {
   "cell_type": "markdown",
   "metadata": {},
   "source": [
    "Let's try on a brand new input from https://www.zillow.com/homes/for_sale/San-Francisco-CA/"
   ]
  },
  {
   "cell_type": "code",
   "execution_count": 32,
   "metadata": {},
   "outputs": [
    {
     "name": "stdout",
     "output_type": "stream",
     "text": [
      "predicted price: $0.975707696492696M\n",
      "actual price: $749,000\n"
     ]
    }
   ],
   "source": [
    "# try brand new data\n",
    "actual_price = '$749,000'\n",
    "sqft = 830\n",
    "new_df = pd.DataFrame(data=[sqft])\n",
    "predicted_price = model.predict(new_df)\n",
    "print(\"predicted price: ${}M\".format(predicted_price[0][0]/1e6))\n",
    "print(\"actual price: {}\".format(actual_price))"
   ]
  },
  {
   "cell_type": "markdown",
   "metadata": {},
   "source": [
    "Plot the predicted values (red) and actual values (blue) on the same graph"
   ]
  },
  {
   "cell_type": "code",
   "execution_count": 33,
   "metadata": {
    "scrolled": false
   },
   "outputs": [
    {
     "data": {
      "text/plain": [
       "<matplotlib.axes._subplots.AxesSubplot at 0x7f410e6ffc50>"
      ]
     },
     "execution_count": 33,
     "metadata": {},
     "output_type": "execute_result"
    },
    {
     "data": {
      "image/png": "[encoded data removed]",
      "text/plain": [
       "<Figure size 864x576 with 1 Axes>"
      ]
     },
     "metadata": {},
     "output_type": "display_data"
    }
   ],
   "source": [
    "y_pred = model.predict(x_np) # predict y values from input X\n",
    "sns.regplot(x_np, y_np, fit_reg=False, color='red')\n",
    "sns.regplot(x_np, y_pred, fit_reg=False, color='blue')"
   ]
  },
  {
   "cell_type": "markdown",
   "metadata": {},
   "source": [
    "Our model looks like it has fit nicely to the data!  \n",
    "One immediate drawback you may notice is that the predictions are constrained to the regression line which results in a large error for many inputs.  \n",
    "Even more importantly: we have many more features other than `sqft` which can help predict `price`.\n",
    "We address these problems in the next notebook by introducing **multiple linear regression**."
   ]
  },
  {
   "cell_type": "markdown",
   "metadata": {},
   "source": [
    "## Model Validation\n",
    "In the above example we trained and tested our model with the same dataset. In practice this is a **big** mistake. We will get false confidence in our model's performance since we didn't validate the it's ability to generalize to new, unseen data from outside of the training set.  \n",
    "This inability to generalize is called [overfitting] and is one of the most frequently occuring problems in ML.  \n",
    "  \n",
    "New data is typically hard to come by but we can do our best to avoid overfitting by \"holding out\" some of our training data as *validation* data. Hopefully our dataset is diverse enough that random sampling a validation dataset can properly represent new, unseen test data.\n",
    "[overfitting]: https://en.wikipedia.org/wiki/Overfitting"
   ]
  },
  {
   "cell_type": "markdown",
   "metadata": {},
   "source": [
    "Use Scikit-Learn's `train_test_split()` to divide our dataset into *training* and *validation* data.  \n",
    "A good rule of thumb is 70% training, 30% validation."
   ]
  },
  {
   "cell_type": "code",
   "execution_count": 35,
   "metadata": {},
   "outputs": [],
   "source": [
    "x_train, x_val, y_train, y_val = train_test_split(x_np, \n",
    "                                                  y_np, \n",
    "                                                  test_size=0.30, \n",
    "                                                  random_state=123) # split 70% train, 30% validation"
   ]
  },
  {
   "cell_type": "markdown",
   "metadata": {},
   "source": [
    "Fit the model to our training set and evaluate using our validation set"
   ]
  },
  {
   "cell_type": "code",
   "execution_count": 37,
   "metadata": {},
   "outputs": [
    {
     "name": "stdout",
     "output_type": "stream",
     "text": [
      "Mean Squared Error: 516481365228.2629\n",
      "Accuracy: 63.3607809212543%\n"
     ]
    }
   ],
   "source": [
    "model= regressor.fit(x_train, y_train)\n",
    "evaluate_model(model, x_val, y_val)"
   ]
  },
  {
   "cell_type": "markdown",
   "metadata": {},
   "source": [
    "The results are very similar to before, however don't expect to get this lucky in practice!  \n",
    "Let's save our model using Python's built-in persistence library `pickle`. That way we can compare results with more complex models in a future notebook."
   ]
  },
  {
   "cell_type": "markdown",
   "metadata": {},
   "source": [
    "Since we are reasonably confident our model is not overfitting, let's retrain on the entire dataset before saving"
   ]
  },
  {
   "cell_type": "code",
   "execution_count": 38,
   "metadata": {},
   "outputs": [],
   "source": [
    "model= regressor.fit(x_np, y_np)"
   ]
  },
  {
   "cell_type": "code",
   "execution_count": 41,
   "metadata": {},
   "outputs": [
    {
     "data": {
      "text/plain": [
       "sklearn.linear_model.base.LinearRegression"
      ]
     },
     "execution_count": 41,
     "metadata": {},
     "output_type": "execute_result"
    }
   ],
   "source": [
    "type(model)"
   ]
  },
  {
   "cell_type": "code",
   "execution_count": 39,
   "metadata": {},
   "outputs": [],
   "source": [
    "import os\n",
    "import pickle\n",
    "model_dir = './models/sf/'\n",
    "if not os.path.exists(model_dir):\n",
    "    os.makedirs(model_dir)\n",
    "with open('./models/sf/simple_linear.pkl', 'wb') as f:\n",
    "    pickle.dump(model, f)"
   ]
  },
  {
   "cell_type": "markdown",
   "metadata": {},
   "source": [
    "We can reload the model with:"
   ]
  },
  {
   "cell_type": "code",
   "execution_count": 40,
   "metadata": {},
   "outputs": [
    {
     "name": "stdout",
     "output_type": "stream",
     "text": [
      "Mean Squared Error: 505426388565.96857\n",
      "Accuracy: 64.14502162984445%\n"
     ]
    }
   ],
   "source": [
    "with open('./models/sf/simple_linear.pkl', 'rb') as f:\n",
    "    model_load = pickle.load(f)\n",
    "evaluate_model(model_load, x_val, y_val)"
   ]
  },
  {
   "cell_type": "markdown",
   "metadata": {},
   "source": [
    "## We are done with Linear Regression. Let's see if we can improve our model accuracy by including more features!"
   ]
  }
 ],
 "metadata": {
  "kernelspec": {
   "display_name": "Python 3",
   "language": "python",
   "name": "python3"
  },
  "language_info": {
   "codemirror_mode": {
    "name": "ipython",
    "version": 3
   },
   "file_extension": ".py",
   "mimetype": "text/x-python",
   "name": "python",
   "nbconvert_exporter": "python",
   "pygments_lexer": "ipython3",
   "version": "3.6.3"
  }
 },
 "nbformat": 4,
 "nbformat_minor": 2
}
